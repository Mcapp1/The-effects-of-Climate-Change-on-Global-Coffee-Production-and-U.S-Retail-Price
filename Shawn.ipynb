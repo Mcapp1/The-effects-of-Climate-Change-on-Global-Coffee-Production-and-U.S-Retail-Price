{
 "cells": [
  {
   "cell_type": "code",
   "execution_count": 1,
   "id": "da2bb6b6",
   "metadata": {},
   "outputs": [],
   "source": [
    "import pandas as pd\n",
    "import seaborn as sns"
   ]
  },
  {
   "cell_type": "markdown",
   "id": "7303b590-9c56-4462-9b24-2f584e759b16",
   "metadata": {},
   "source": [
    "## Ethiopia Production"
   ]
  },
  {
   "cell_type": "code",
   "execution_count": 2,
   "id": "c4e5eda0",
   "metadata": {},
   "outputs": [],
   "source": [
    "prod_df = pd.read_csv('./data/production.csv')"
   ]
  },
  {
   "cell_type": "code",
   "execution_count": 3,
   "id": "92160336",
   "metadata": {},
   "outputs": [
    {
     "data": {
      "text/plain": [
       "(56, 32)"
      ]
     },
     "execution_count": 3,
     "metadata": {},
     "output_type": "execute_result"
    }
   ],
   "source": [
    "prod_df.shape"
   ]
  },
  {
   "cell_type": "code",
   "execution_count": 4,
   "id": "dff81dde",
   "metadata": {},
   "outputs": [],
   "source": [
    "prod_df = prod_df.T"
   ]
  },
  {
   "cell_type": "code",
   "execution_count": 5,
   "id": "4357bbb7",
   "metadata": {
    "scrolled": true
   },
   "outputs": [],
   "source": [
    "e_prod = pd.DataFrame(prod_df)"
   ]
  },
  {
   "cell_type": "code",
   "execution_count": 6,
   "id": "a66d2f4f",
   "metadata": {},
   "outputs": [],
   "source": [
    "header = e_prod.iloc[0]\n",
    "e_prod = e_prod[1:]\n",
    "e_prod.columns = header"
   ]
  },
  {
   "cell_type": "code",
   "execution_count": 7,
   "id": "a2df2d12-8e8f-4b71-9b2e-43eb693f2f5f",
   "metadata": {},
   "outputs": [],
   "source": [
    "#setting column name as the country names\n",
    "e_prod.columns = e_prod.iloc[0]"
   ]
  },
  {
   "cell_type": "code",
   "execution_count": 8,
   "id": "86c67edb-5d06-4cc1-b334-1b908e639024",
   "metadata": {},
   "outputs": [],
   "source": [
    "# dropping first row\n",
    "e_prod = e_prod.iloc[1:]"
   ]
  },
  {
   "cell_type": "code",
   "execution_count": 9,
   "id": "90946cbe-534b-4fa4-a329-4d5b420ca6f5",
   "metadata": {},
   "outputs": [],
   "source": [
    "e_prod = e_prod[['Ethiopia']]"
   ]
  },
  {
   "cell_type": "code",
   "execution_count": 10,
   "id": "4ecbf13f-011f-4565-bd8e-2f822e758cc5",
   "metadata": {},
   "outputs": [],
   "source": [
    "e_prod['year'] = e_prod.index"
   ]
  },
  {
   "cell_type": "code",
   "execution_count": 11,
   "id": "3c036ccf-6002-4177-8573-dde84411fa56",
   "metadata": {},
   "outputs": [],
   "source": [
    "e_prod.columns = [col.lower().strip().replace(' ', '_')\n",
    "    for col in e_prod.columns]"
   ]
  },
  {
   "cell_type": "code",
   "execution_count": 12,
   "id": "979c8dc6-cbe8-41ab-a2ab-dc3ef356e09b",
   "metadata": {},
   "outputs": [],
   "source": [
    "e_prod = e_prod.rename(columns = {'ethiopia':'e_prod'})"
   ]
  },
  {
   "cell_type": "markdown",
   "id": "8a77f1fa",
   "metadata": {},
   "source": [
    "## Retail Prices"
   ]
  },
  {
   "cell_type": "code",
   "execution_count": 13,
   "id": "572da03d",
   "metadata": {},
   "outputs": [],
   "source": [
    "retail_prices = pd.read_excel('./data/3b - retail_prices.xlsx')"
   ]
  },
  {
   "cell_type": "code",
   "execution_count": 14,
   "id": "ae8ec8f8",
   "metadata": {
    "scrolled": true,
    "tags": []
   },
   "outputs": [
    {
     "data": {
      "text/html": [
       "<div>\n",
       "<style scoped>\n",
       "    .dataframe tbody tr th:only-of-type {\n",
       "        vertical-align: middle;\n",
       "    }\n",
       "\n",
       "    .dataframe tbody tr th {\n",
       "        vertical-align: top;\n",
       "    }\n",
       "\n",
       "    .dataframe thead th {\n",
       "        text-align: right;\n",
       "    }\n",
       "</style>\n",
       "<table border=\"1\" class=\"dataframe\">\n",
       "  <thead>\n",
       "    <tr style=\"text-align: right;\">\n",
       "      <th></th>\n",
       "      <th>Year</th>\n",
       "      <th>Austria</th>\n",
       "      <th>Belgium</th>\n",
       "      <th>Bulgaria</th>\n",
       "      <th>Cyprus</th>\n",
       "      <th>Czechia</th>\n",
       "      <th>Denmark</th>\n",
       "      <th>Finland</th>\n",
       "      <th>France</th>\n",
       "      <th>Germany</th>\n",
       "      <th>...</th>\n",
       "      <th>Slovakia</th>\n",
       "      <th>Slovenia</th>\n",
       "      <th>Spain</th>\n",
       "      <th>Sweden</th>\n",
       "      <th>Japan</th>\n",
       "      <th>Norway</th>\n",
       "      <th>Russian Federation</th>\n",
       "      <th>Switzerland</th>\n",
       "      <th>United Kingdom 1</th>\n",
       "      <th>United States of America</th>\n",
       "    </tr>\n",
       "  </thead>\n",
       "  <tbody>\n",
       "    <tr>\n",
       "      <th>0</th>\n",
       "      <td>1990</td>\n",
       "      <td>4.90</td>\n",
       "      <td>3.27</td>\n",
       "      <td>NaN</td>\n",
       "      <td>2.83</td>\n",
       "      <td>NaN</td>\n",
       "      <td>3.81</td>\n",
       "      <td>2.98</td>\n",
       "      <td>3.73</td>\n",
       "      <td>3.99</td>\n",
       "      <td>...</td>\n",
       "      <td>NaN</td>\n",
       "      <td>NaN</td>\n",
       "      <td>3.62</td>\n",
       "      <td>3.43</td>\n",
       "      <td>10.26</td>\n",
       "      <td>3.31</td>\n",
       "      <td>NaN</td>\n",
       "      <td>4.83</td>\n",
       "      <td>10.55</td>\n",
       "      <td>2.97</td>\n",
       "    </tr>\n",
       "    <tr>\n",
       "      <th>1</th>\n",
       "      <td>1991</td>\n",
       "      <td>4.57</td>\n",
       "      <td>2.92</td>\n",
       "      <td>NaN</td>\n",
       "      <td>2.80</td>\n",
       "      <td>NaN</td>\n",
       "      <td>3.67</td>\n",
       "      <td>2.72</td>\n",
       "      <td>3.43</td>\n",
       "      <td>3.84</td>\n",
       "      <td>...</td>\n",
       "      <td>NaN</td>\n",
       "      <td>NaN</td>\n",
       "      <td>3.50</td>\n",
       "      <td>3.29</td>\n",
       "      <td>11.88</td>\n",
       "      <td>3.16</td>\n",
       "      <td>NaN</td>\n",
       "      <td>4.36</td>\n",
       "      <td>10.41</td>\n",
       "      <td>2.81</td>\n",
       "    </tr>\n",
       "    <tr>\n",
       "      <th>2</th>\n",
       "      <td>1992</td>\n",
       "      <td>4.99</td>\n",
       "      <td>3.05</td>\n",
       "      <td>NaN</td>\n",
       "      <td>2.87</td>\n",
       "      <td>NaN</td>\n",
       "      <td>3.79</td>\n",
       "      <td>2.46</td>\n",
       "      <td>2.31</td>\n",
       "      <td>4.00</td>\n",
       "      <td>...</td>\n",
       "      <td>NaN</td>\n",
       "      <td>NaN</td>\n",
       "      <td>3.50</td>\n",
       "      <td>3.11</td>\n",
       "      <td>12.62</td>\n",
       "      <td>3.12</td>\n",
       "      <td>NaN</td>\n",
       "      <td>4.52</td>\n",
       "      <td>10.09</td>\n",
       "      <td>2.58</td>\n",
       "    </tr>\n",
       "    <tr>\n",
       "      <th>3</th>\n",
       "      <td>1993</td>\n",
       "      <td>4.97</td>\n",
       "      <td>2.78</td>\n",
       "      <td>NaN</td>\n",
       "      <td>2.60</td>\n",
       "      <td>NaN</td>\n",
       "      <td>3.48</td>\n",
       "      <td>1.94</td>\n",
       "      <td>2.03</td>\n",
       "      <td>3.62</td>\n",
       "      <td>...</td>\n",
       "      <td>NaN</td>\n",
       "      <td>NaN</td>\n",
       "      <td>2.79</td>\n",
       "      <td>2.65</td>\n",
       "      <td>14.57</td>\n",
       "      <td>2.46</td>\n",
       "      <td>NaN</td>\n",
       "      <td>4.27</td>\n",
       "      <td>8.44</td>\n",
       "      <td>2.47</td>\n",
       "    </tr>\n",
       "    <tr>\n",
       "      <th>4</th>\n",
       "      <td>1994</td>\n",
       "      <td>4.58</td>\n",
       "      <td>3.42</td>\n",
       "      <td>NaN</td>\n",
       "      <td>3.18</td>\n",
       "      <td>NaN</td>\n",
       "      <td>4.45</td>\n",
       "      <td>2.73</td>\n",
       "      <td>2.40</td>\n",
       "      <td>4.18</td>\n",
       "      <td>...</td>\n",
       "      <td>NaN</td>\n",
       "      <td>NaN</td>\n",
       "      <td>2.76</td>\n",
       "      <td>3.79</td>\n",
       "      <td>14.69</td>\n",
       "      <td>3.29</td>\n",
       "      <td>NaN</td>\n",
       "      <td>4.50</td>\n",
       "      <td>11.36</td>\n",
       "      <td>3.40</td>\n",
       "    </tr>\n",
       "  </tbody>\n",
       "</table>\n",
       "<p>5 rows × 29 columns</p>\n",
       "</div>"
      ],
      "text/plain": [
       "   Year     Austria     Belgium     Bulgaria     Cyprus     Czechia  \\\n",
       "0  1990        4.90        3.27          NaN       2.83         NaN   \n",
       "1  1991        4.57        2.92          NaN       2.80         NaN   \n",
       "2  1992        4.99        3.05          NaN       2.87         NaN   \n",
       "3  1993        4.97        2.78          NaN       2.60         NaN   \n",
       "4  1994        4.58        3.42          NaN       3.18         NaN   \n",
       "\n",
       "      Denmark     Finland     France     Germany  ...     Slovakia  \\\n",
       "0        3.81        2.98       3.73        3.99  ...          NaN   \n",
       "1        3.67        2.72       3.43        3.84  ...          NaN   \n",
       "2        3.79        2.46       2.31        4.00  ...          NaN   \n",
       "3        3.48        1.94       2.03        3.62  ...          NaN   \n",
       "4        4.45        2.73       2.40        4.18  ...          NaN   \n",
       "\n",
       "      Slovenia     Spain     Sweden  Japan  Norway  Russian Federation  \\\n",
       "0          NaN      3.62       3.43  10.26    3.31                 NaN   \n",
       "1          NaN      3.50       3.29  11.88    3.16                 NaN   \n",
       "2          NaN      3.50       3.11  12.62    3.12                 NaN   \n",
       "3          NaN      2.79       2.65  14.57    2.46                 NaN   \n",
       "4          NaN      2.76       3.79  14.69    3.29                 NaN   \n",
       "\n",
       "   Switzerland  United Kingdom 1  United States of America  \n",
       "0         4.83             10.55                      2.97  \n",
       "1         4.36             10.41                      2.81  \n",
       "2         4.52             10.09                      2.58  \n",
       "3         4.27              8.44                      2.47  \n",
       "4         4.50             11.36                      3.40  \n",
       "\n",
       "[5 rows x 29 columns]"
      ]
     },
     "execution_count": 14,
     "metadata": {},
     "output_type": "execute_result"
    }
   ],
   "source": [
    "retail_prices.head()"
   ]
  },
  {
   "cell_type": "markdown",
   "id": "623ece89",
   "metadata": {},
   "source": [
    "## Ethiopia Temp "
   ]
  },
  {
   "cell_type": "code",
   "execution_count": 15,
   "id": "67af8df7-f179-4bcd-ad07-656915e98a0a",
   "metadata": {},
   "outputs": [],
   "source": [
    "temp_df = pd.read_csv('data/FAOSTAT_data_1-10-2022.csv')"
   ]
  },
  {
   "cell_type": "code",
   "execution_count": 16,
   "id": "e4de9f2f",
   "metadata": {},
   "outputs": [],
   "source": [
    "ethiopia_temp_change = temp_df[temp_df.Area == 'Ethiopia']"
   ]
  },
  {
   "cell_type": "code",
   "execution_count": 17,
   "id": "6ed694c0",
   "metadata": {},
   "outputs": [],
   "source": [
    "ethiopia_temp_change.columns = [col.lower().strip().replace(' ', '_')\n",
    "    for col in ethiopia_temp_change.columns]"
   ]
  },
  {
   "cell_type": "code",
   "execution_count": 18,
   "id": "3d01d503",
   "metadata": {},
   "outputs": [],
   "source": [
    "ethiopia_temp_change = ethiopia_temp_change[ethiopia_temp_change['months']=='Meteorological year'].sort_values(by=['months', 'year'], ascending= False)"
   ]
  },
  {
   "cell_type": "code",
   "execution_count": 19,
   "id": "f42c6530",
   "metadata": {
    "scrolled": true
   },
   "outputs": [],
   "source": [
    "e_temp_change = ethiopia_temp_change[['year','value']].iloc[::-1]"
   ]
  },
  {
   "cell_type": "code",
   "execution_count": 20,
   "id": "cdde3d89-84ea-416a-82d7-d849890b84ac",
   "metadata": {},
   "outputs": [],
   "source": [
    "e_temp_change.rename(columns={'value':'e_temp_change'}, inplace = True)"
   ]
  },
  {
   "cell_type": "code",
   "execution_count": 21,
   "id": "f39367de-45ac-4f8a-a125-e86d47a5847b",
   "metadata": {},
   "outputs": [
    {
     "data": {
      "text/html": [
       "<div>\n",
       "<style scoped>\n",
       "    .dataframe tbody tr th:only-of-type {\n",
       "        vertical-align: middle;\n",
       "    }\n",
       "\n",
       "    .dataframe tbody tr th {\n",
       "        vertical-align: top;\n",
       "    }\n",
       "\n",
       "    .dataframe thead th {\n",
       "        text-align: right;\n",
       "    }\n",
       "</style>\n",
       "<table border=\"1\" class=\"dataframe\">\n",
       "  <thead>\n",
       "    <tr style=\"text-align: right;\">\n",
       "      <th></th>\n",
       "      <th>year</th>\n",
       "      <th>e_temp_change</th>\n",
       "    </tr>\n",
       "  </thead>\n",
       "  <tbody>\n",
       "    <tr>\n",
       "      <th>70182</th>\n",
       "      <td>1993</td>\n",
       "      <td>0.244</td>\n",
       "    </tr>\n",
       "    <tr>\n",
       "      <th>70183</th>\n",
       "      <td>1994</td>\n",
       "      <td>0.599</td>\n",
       "    </tr>\n",
       "    <tr>\n",
       "      <th>70184</th>\n",
       "      <td>1995</td>\n",
       "      <td>0.815</td>\n",
       "    </tr>\n",
       "    <tr>\n",
       "      <th>70185</th>\n",
       "      <td>1996</td>\n",
       "      <td>0.775</td>\n",
       "    </tr>\n",
       "    <tr>\n",
       "      <th>70186</th>\n",
       "      <td>1997</td>\n",
       "      <td>0.713</td>\n",
       "    </tr>\n",
       "  </tbody>\n",
       "</table>\n",
       "</div>"
      ],
      "text/plain": [
       "       year  e_temp_change\n",
       "70182  1993          0.244\n",
       "70183  1994          0.599\n",
       "70184  1995          0.815\n",
       "70185  1996          0.775\n",
       "70186  1997          0.713"
      ]
     },
     "execution_count": 21,
     "metadata": {},
     "output_type": "execute_result"
    }
   ],
   "source": [
    "e_temp_change.head()"
   ]
  },
  {
   "cell_type": "markdown",
   "id": "bdc0004c",
   "metadata": {},
   "source": [
    "## Ethiopia Exports"
   ]
  },
  {
   "cell_type": "code",
   "execution_count": 22,
   "id": "6ce8bf8b",
   "metadata": {},
   "outputs": [],
   "source": [
    "e_export = pd.read_excel('./data/2a - Exports - calendar year.xlsx')"
   ]
  },
  {
   "cell_type": "code",
   "execution_count": 23,
   "id": "79204cbe",
   "metadata": {},
   "outputs": [],
   "source": [
    "e_export.dropna(inplace = True)"
   ]
  },
  {
   "cell_type": "code",
   "execution_count": 24,
   "id": "2130d779",
   "metadata": {},
   "outputs": [],
   "source": [
    "e_export = e_export.T"
   ]
  },
  {
   "cell_type": "code",
   "execution_count": 25,
   "id": "3ce2defc",
   "metadata": {
    "scrolled": true
   },
   "outputs": [],
   "source": [
    "new_header = e_export.iloc[0]\n",
    "e_export = e_export[1:] \n",
    "e_export.columns = new_header "
   ]
  },
  {
   "cell_type": "code",
   "execution_count": 26,
   "id": "5e69925b-a6e4-409c-9961-f1e70a9aabca",
   "metadata": {},
   "outputs": [],
   "source": [
    "e_export.columns = [col.lower().strip().replace(' ','_') \n",
    "                         for col in e_export.columns]"
   ]
  },
  {
   "cell_type": "code",
   "execution_count": 27,
   "id": "0525bfe1-5895-4025-a13a-81d6d412e396",
   "metadata": {},
   "outputs": [],
   "source": [
    "e_export = e_export[['calendar_years','ethiopia']]"
   ]
  },
  {
   "cell_type": "code",
   "execution_count": 28,
   "id": "1fc5449a-fe33-4ffc-a310-ee10ed067f15",
   "metadata": {},
   "outputs": [],
   "source": [
    "e_export.rename(columns={'calendar_years':'year', 'ethiopia':'e_export'}, inplace = True)"
   ]
  },
  {
   "cell_type": "code",
   "execution_count": 29,
   "id": "54fc5984-f1c5-4924-a3fd-dd36beb423f4",
   "metadata": {},
   "outputs": [
    {
     "data": {
      "text/html": [
       "<div>\n",
       "<style scoped>\n",
       "    .dataframe tbody tr th:only-of-type {\n",
       "        vertical-align: middle;\n",
       "    }\n",
       "\n",
       "    .dataframe tbody tr th {\n",
       "        vertical-align: top;\n",
       "    }\n",
       "\n",
       "    .dataframe thead th {\n",
       "        text-align: right;\n",
       "    }\n",
       "</style>\n",
       "<table border=\"1\" class=\"dataframe\">\n",
       "  <thead>\n",
       "    <tr style=\"text-align: right;\">\n",
       "      <th></th>\n",
       "      <th>year</th>\n",
       "      <th>e_export</th>\n",
       "    </tr>\n",
       "  </thead>\n",
       "  <tbody>\n",
       "    <tr>\n",
       "      <th>Unnamed: 1</th>\n",
       "      <td>1990.0</td>\n",
       "      <td>1074.101</td>\n",
       "    </tr>\n",
       "    <tr>\n",
       "      <th>Unnamed: 2</th>\n",
       "      <td>1991.0</td>\n",
       "      <td>841.329</td>\n",
       "    </tr>\n",
       "    <tr>\n",
       "      <th>Unnamed: 3</th>\n",
       "      <td>1992.0</td>\n",
       "      <td>734.461</td>\n",
       "    </tr>\n",
       "    <tr>\n",
       "      <th>Unnamed: 4</th>\n",
       "      <td>1993.0</td>\n",
       "      <td>1166.778</td>\n",
       "    </tr>\n",
       "    <tr>\n",
       "      <th>Unnamed: 5</th>\n",
       "      <td>1994.0</td>\n",
       "      <td>1475.325</td>\n",
       "    </tr>\n",
       "  </tbody>\n",
       "</table>\n",
       "</div>"
      ],
      "text/plain": [
       "              year  e_export\n",
       "Unnamed: 1  1990.0  1074.101\n",
       "Unnamed: 2  1991.0   841.329\n",
       "Unnamed: 3  1992.0   734.461\n",
       "Unnamed: 4  1993.0  1166.778\n",
       "Unnamed: 5  1994.0  1475.325"
      ]
     },
     "execution_count": 29,
     "metadata": {},
     "output_type": "execute_result"
    }
   ],
   "source": [
    "e_export.head()"
   ]
  },
  {
   "cell_type": "markdown",
   "id": "4a16f484-3b89-4cac-bd23-f9c3283c4ba6",
   "metadata": {},
   "source": [
    "## Ethiopia Domestic Consumption (Disappearance)"
   ]
  },
  {
   "cell_type": "code",
   "execution_count": 30,
   "id": "72047cff-8f44-4f51-84f8-93faa8a1dbc6",
   "metadata": {},
   "outputs": [
    {
     "name": "stderr",
     "output_type": "stream",
     "text": [
      "/Users/sangs/opt/anaconda3/lib/python3.9/site-packages/openpyxl/worksheet/_reader.py:312: UserWarning: Unknown extension is not supported and will be removed\n",
      "  warn(msg)\n"
     ]
    }
   ],
   "source": [
    "e_consumption = pd.read_excel('./data/1b - Domestic consumption.xlsx')"
   ]
  },
  {
   "cell_type": "code",
   "execution_count": 31,
   "id": "763fe434-3534-484e-be6e-455e4ba5b88f",
   "metadata": {},
   "outputs": [],
   "source": [
    "e_consumption = e_consumption.T"
   ]
  },
  {
   "cell_type": "code",
   "execution_count": 32,
   "id": "a488a43d-a74b-45fa-9bb1-62920f305a2b",
   "metadata": {},
   "outputs": [],
   "source": [
    "new_header = e_consumption.iloc[0]\n",
    "e_consumption = e_consumption[1:] \n",
    "e_consumption.columns = new_header "
   ]
  },
  {
   "cell_type": "code",
   "execution_count": 33,
   "id": "060e1252-c9ee-4166-9092-21c475d1548b",
   "metadata": {},
   "outputs": [],
   "source": [
    "e_consumption = e_consumption.drop(e_consumption.index[:1])"
   ]
  },
  {
   "cell_type": "code",
   "execution_count": 34,
   "id": "152b167e-a0ce-4349-b6f5-0b67acf231c0",
   "metadata": {},
   "outputs": [
    {
     "data": {
      "text/html": [
       "<div>\n",
       "<style scoped>\n",
       "    .dataframe tbody tr th:only-of-type {\n",
       "        vertical-align: middle;\n",
       "    }\n",
       "\n",
       "    .dataframe tbody tr th {\n",
       "        vertical-align: top;\n",
       "    }\n",
       "\n",
       "    .dataframe thead th {\n",
       "        text-align: right;\n",
       "    }\n",
       "</style>\n",
       "<table border=\"1\" class=\"dataframe\">\n",
       "  <thead>\n",
       "    <tr style=\"text-align: right;\">\n",
       "      <th>Domestic consumption by all exporting countries</th>\n",
       "      <th>In thousand 60kg bags</th>\n",
       "      <th>NaN</th>\n",
       "      <th>Crop year</th>\n",
       "      <th>NaN</th>\n",
       "      <th>April group</th>\n",
       "      <th>Angola</th>\n",
       "      <th>Bolivia (Plurinational State of)</th>\n",
       "      <th>Brazil</th>\n",
       "      <th>Burundi</th>\n",
       "      <th>Ecuador</th>\n",
       "      <th>...</th>\n",
       "      <th>Thailand</th>\n",
       "      <th>Togo</th>\n",
       "      <th>Trinidad &amp; Tobago</th>\n",
       "      <th>Uganda</th>\n",
       "      <th>Venezuela</th>\n",
       "      <th>Viet Nam</th>\n",
       "      <th>Yemen</th>\n",
       "      <th>NaN</th>\n",
       "      <th>Total</th>\n",
       "      <th>© International Coffee Organization</th>\n",
       "    </tr>\n",
       "  </thead>\n",
       "  <tbody>\n",
       "    <tr>\n",
       "      <th>Unnamed: 2</th>\n",
       "      <td>NaN</td>\n",
       "      <td>NaN</td>\n",
       "      <td>1990/91</td>\n",
       "      <td>NaN</td>\n",
       "      <td>10408</td>\n",
       "      <td>20</td>\n",
       "      <td>25</td>\n",
       "      <td>8200</td>\n",
       "      <td>2</td>\n",
       "      <td>350</td>\n",
       "      <td>...</td>\n",
       "      <td>188</td>\n",
       "      <td>1</td>\n",
       "      <td>8</td>\n",
       "      <td>70</td>\n",
       "      <td>782.39</td>\n",
       "      <td>150</td>\n",
       "      <td>0</td>\n",
       "      <td>NaN</td>\n",
       "      <td>19509.211</td>\n",
       "      <td>NaN</td>\n",
       "    </tr>\n",
       "    <tr>\n",
       "      <th>Unnamed: 3</th>\n",
       "      <td>NaN</td>\n",
       "      <td>NaN</td>\n",
       "      <td>1991/92</td>\n",
       "      <td>NaN</td>\n",
       "      <td>10707.6</td>\n",
       "      <td>30</td>\n",
       "      <td>27</td>\n",
       "      <td>8500</td>\n",
       "      <td>1.6</td>\n",
       "      <td>350</td>\n",
       "      <td>...</td>\n",
       "      <td>220</td>\n",
       "      <td>1</td>\n",
       "      <td>11.5</td>\n",
       "      <td>75</td>\n",
       "      <td>815.48</td>\n",
       "      <td>230</td>\n",
       "      <td>0</td>\n",
       "      <td>NaN</td>\n",
       "      <td>20228.097</td>\n",
       "      <td>NaN</td>\n",
       "    </tr>\n",
       "    <tr>\n",
       "      <th>Unnamed: 4</th>\n",
       "      <td>NaN</td>\n",
       "      <td>NaN</td>\n",
       "      <td>1992/93</td>\n",
       "      <td>NaN</td>\n",
       "      <td>11212.2</td>\n",
       "      <td>35</td>\n",
       "      <td>27.5</td>\n",
       "      <td>8900</td>\n",
       "      <td>1.7</td>\n",
       "      <td>350</td>\n",
       "      <td>...</td>\n",
       "      <td>233</td>\n",
       "      <td>1</td>\n",
       "      <td>10</td>\n",
       "      <td>75</td>\n",
       "      <td>849.97</td>\n",
       "      <td>250</td>\n",
       "      <td>0</td>\n",
       "      <td>NaN</td>\n",
       "      <td>20951.452</td>\n",
       "      <td>NaN</td>\n",
       "    </tr>\n",
       "    <tr>\n",
       "      <th>Unnamed: 5</th>\n",
       "      <td>NaN</td>\n",
       "      <td>NaN</td>\n",
       "      <td>1993/94</td>\n",
       "      <td>NaN</td>\n",
       "      <td>11452.743</td>\n",
       "      <td>20</td>\n",
       "      <td>28.5</td>\n",
       "      <td>9100</td>\n",
       "      <td>1.91</td>\n",
       "      <td>350</td>\n",
       "      <td>...</td>\n",
       "      <td>250</td>\n",
       "      <td>1</td>\n",
       "      <td>10</td>\n",
       "      <td>75</td>\n",
       "      <td>885.93</td>\n",
       "      <td>267</td>\n",
       "      <td>0</td>\n",
       "      <td>NaN</td>\n",
       "      <td>21097.906</td>\n",
       "      <td>NaN</td>\n",
       "    </tr>\n",
       "    <tr>\n",
       "      <th>Unnamed: 6</th>\n",
       "      <td>NaN</td>\n",
       "      <td>NaN</td>\n",
       "      <td>1994/95</td>\n",
       "      <td>NaN</td>\n",
       "      <td>11506.499</td>\n",
       "      <td>25</td>\n",
       "      <td>29.5</td>\n",
       "      <td>9300</td>\n",
       "      <td>2</td>\n",
       "      <td>350</td>\n",
       "      <td>...</td>\n",
       "      <td>283</td>\n",
       "      <td>1</td>\n",
       "      <td>14</td>\n",
       "      <td>80</td>\n",
       "      <td>923.4</td>\n",
       "      <td>267</td>\n",
       "      <td>0</td>\n",
       "      <td>NaN</td>\n",
       "      <td>21360.166</td>\n",
       "      <td>NaN</td>\n",
       "    </tr>\n",
       "  </tbody>\n",
       "</table>\n",
       "<p>5 rows × 67 columns</p>\n",
       "</div>"
      ],
      "text/plain": [
       "Domestic consumption by all exporting countries In thousand 60kg bags  NaN  \\\n",
       "Unnamed: 2                                                        NaN  NaN   \n",
       "Unnamed: 3                                                        NaN  NaN   \n",
       "Unnamed: 4                                                        NaN  NaN   \n",
       "Unnamed: 5                                                        NaN  NaN   \n",
       "Unnamed: 6                                                        NaN  NaN   \n",
       "\n",
       "Domestic consumption by all exporting countries Crop year  NaN April group  \\\n",
       "Unnamed: 2                                        1990/91  NaN       10408   \n",
       "Unnamed: 3                                        1991/92  NaN     10707.6   \n",
       "Unnamed: 4                                        1992/93  NaN     11212.2   \n",
       "Unnamed: 5                                        1993/94  NaN   11452.743   \n",
       "Unnamed: 6                                        1994/95  NaN   11506.499   \n",
       "\n",
       "Domestic consumption by all exporting countries Angola  \\\n",
       "Unnamed: 2                                          20   \n",
       "Unnamed: 3                                          30   \n",
       "Unnamed: 4                                          35   \n",
       "Unnamed: 5                                          20   \n",
       "Unnamed: 6                                          25   \n",
       "\n",
       "Domestic consumption by all exporting countries Bolivia (Plurinational State of)  \\\n",
       "Unnamed: 2                                                                    25   \n",
       "Unnamed: 3                                                                    27   \n",
       "Unnamed: 4                                                                  27.5   \n",
       "Unnamed: 5                                                                  28.5   \n",
       "Unnamed: 6                                                                  29.5   \n",
       "\n",
       "Domestic consumption by all exporting countries Brazil Burundi Ecuador  ...  \\\n",
       "Unnamed: 2                                        8200       2     350  ...   \n",
       "Unnamed: 3                                        8500     1.6     350  ...   \n",
       "Unnamed: 4                                        8900     1.7     350  ...   \n",
       "Unnamed: 5                                        9100    1.91     350  ...   \n",
       "Unnamed: 6                                        9300       2     350  ...   \n",
       "\n",
       "Domestic consumption by all exporting countries Thailand Togo  \\\n",
       "Unnamed: 2                                           188    1   \n",
       "Unnamed: 3                                           220    1   \n",
       "Unnamed: 4                                           233    1   \n",
       "Unnamed: 5                                           250    1   \n",
       "Unnamed: 6                                           283    1   \n",
       "\n",
       "Domestic consumption by all exporting countries Trinidad & Tobago Uganda  \\\n",
       "Unnamed: 2                                                      8     70   \n",
       "Unnamed: 3                                                   11.5     75   \n",
       "Unnamed: 4                                                     10     75   \n",
       "Unnamed: 5                                                     10     75   \n",
       "Unnamed: 6                                                     14     80   \n",
       "\n",
       "Domestic consumption by all exporting countries Venezuela Viet Nam Yemen  NaN  \\\n",
       "Unnamed: 2                                         782.39      150     0  NaN   \n",
       "Unnamed: 3                                         815.48      230     0  NaN   \n",
       "Unnamed: 4                                         849.97      250     0  NaN   \n",
       "Unnamed: 5                                         885.93      267     0  NaN   \n",
       "Unnamed: 6                                          923.4      267     0  NaN   \n",
       "\n",
       "Domestic consumption by all exporting countries      Total  \\\n",
       "Unnamed: 2                                       19509.211   \n",
       "Unnamed: 3                                       20228.097   \n",
       "Unnamed: 4                                       20951.452   \n",
       "Unnamed: 5                                       21097.906   \n",
       "Unnamed: 6                                       21360.166   \n",
       "\n",
       "Domestic consumption by all exporting countries © International Coffee Organization  \n",
       "Unnamed: 2                                                                      NaN  \n",
       "Unnamed: 3                                                                      NaN  \n",
       "Unnamed: 4                                                                      NaN  \n",
       "Unnamed: 5                                                                      NaN  \n",
       "Unnamed: 6                                                                      NaN  \n",
       "\n",
       "[5 rows x 67 columns]"
      ]
     },
     "execution_count": 34,
     "metadata": {},
     "output_type": "execute_result"
    }
   ],
   "source": [
    "e_consumption.head()"
   ]
  },
  {
   "cell_type": "code",
   "execution_count": 35,
   "id": "4e7d5ca1-c14c-4a57-a34a-bc8df693378a",
   "metadata": {},
   "outputs": [],
   "source": [
    "e_consumption = e_consumption.drop(e_consumption.columns[:2], axis = 1)"
   ]
  },
  {
   "cell_type": "code",
   "execution_count": 36,
   "id": "d3a784ac-7c55-4c39-ae8a-0321915c2d82",
   "metadata": {},
   "outputs": [],
   "source": [
    "e_consumption = e_consumption[['Crop year','Ethiopia']]"
   ]
  },
  {
   "cell_type": "code",
   "execution_count": 37,
   "id": "15ca57ce-692f-4c13-8c6f-54288250b838",
   "metadata": {},
   "outputs": [],
   "source": [
    "e_consumption.columns = [col.lower().strip().replace(' ','_') \n",
    "                         for col in e_consumption.columns]"
   ]
  },
  {
   "cell_type": "code",
   "execution_count": 38,
   "id": "9005fa19-e115-4a67-82dd-a3f78122e1e0",
   "metadata": {},
   "outputs": [],
   "source": [
    "e_consumption.rename(columns = {'crop_year':'year',\n",
    "                                'ethiopia':'e_consumption'},\n",
    "                     inplace = True)"
   ]
  },
  {
   "cell_type": "code",
   "execution_count": 39,
   "id": "cc1ccb99-46ff-46ac-814c-0493c4f2865e",
   "metadata": {},
   "outputs": [
    {
     "data": {
      "text/html": [
       "<div>\n",
       "<style scoped>\n",
       "    .dataframe tbody tr th:only-of-type {\n",
       "        vertical-align: middle;\n",
       "    }\n",
       "\n",
       "    .dataframe tbody tr th {\n",
       "        vertical-align: top;\n",
       "    }\n",
       "\n",
       "    .dataframe thead th {\n",
       "        text-align: right;\n",
       "    }\n",
       "</style>\n",
       "<table border=\"1\" class=\"dataframe\">\n",
       "  <thead>\n",
       "    <tr style=\"text-align: right;\">\n",
       "      <th></th>\n",
       "      <th>year</th>\n",
       "      <th>e_consumption</th>\n",
       "    </tr>\n",
       "  </thead>\n",
       "  <tbody>\n",
       "    <tr>\n",
       "      <th>Unnamed: 2</th>\n",
       "      <td>1990/91</td>\n",
       "      <td>1200</td>\n",
       "    </tr>\n",
       "    <tr>\n",
       "      <th>Unnamed: 3</th>\n",
       "      <td>1991/92</td>\n",
       "      <td>1264</td>\n",
       "    </tr>\n",
       "    <tr>\n",
       "      <th>Unnamed: 4</th>\n",
       "      <td>1992/93</td>\n",
       "      <td>1331</td>\n",
       "    </tr>\n",
       "    <tr>\n",
       "      <th>Unnamed: 5</th>\n",
       "      <td>1993/94</td>\n",
       "      <td>1402</td>\n",
       "    </tr>\n",
       "    <tr>\n",
       "      <th>Unnamed: 6</th>\n",
       "      <td>1994/95</td>\n",
       "      <td>1476</td>\n",
       "    </tr>\n",
       "  </tbody>\n",
       "</table>\n",
       "</div>"
      ],
      "text/plain": [
       "               year e_consumption\n",
       "Unnamed: 2  1990/91          1200\n",
       "Unnamed: 3  1991/92          1264\n",
       "Unnamed: 4  1992/93          1331\n",
       "Unnamed: 5  1993/94          1402\n",
       "Unnamed: 6  1994/95          1476"
      ]
     },
     "execution_count": 39,
     "metadata": {},
     "output_type": "execute_result"
    }
   ],
   "source": [
    "e_consumption.head()"
   ]
  },
  {
   "cell_type": "markdown",
   "id": "2fdbe99a-cba7-4f12-b8f6-dd34f1c5a701",
   "metadata": {},
   "source": [
    "## Merge dataframes"
   ]
  },
  {
   "cell_type": "markdown",
   "id": "2395854c-e68f-4777-84c4-23a52e2d5732",
   "metadata": {},
   "source": [
    "e_prod\n",
    "e_temp_change\n",
    "e_export\n",
    "e_consumption"
   ]
  },
  {
   "cell_type": "code",
   "execution_count": 40,
   "id": "7fa13e66-0077-4366-a685-4a3a8f432f90",
   "metadata": {},
   "outputs": [],
   "source": [
    "prod_temp_df = pd.concat([e_prod, e_temp_change])"
   ]
  },
  {
   "cell_type": "code",
   "execution_count": 41,
   "id": "f8415b90-074e-4cfc-bfe7-618eba1229dc",
   "metadata": {},
   "outputs": [],
   "source": [
    "export_consump = pd.concat([e_export, e_consumption])"
   ]
  },
  {
   "cell_type": "code",
   "execution_count": 42,
   "id": "f54c4b47-64a9-49b9-81b3-5d0f137446ed",
   "metadata": {},
   "outputs": [],
   "source": [
    "ethiopia_df = pd.concat([prod_temp_df, export_consump])"
   ]
  },
  {
   "cell_type": "code",
   "execution_count": 43,
   "id": "22a16158-3a36-4f98-8ee8-917b40f8088a",
   "metadata": {},
   "outputs": [],
   "source": [
    "ethiopia_df = ethiopia_df.reset_index()"
   ]
  },
  {
   "cell_type": "code",
   "execution_count": 44,
   "id": "57c1e053-3471-4837-a5df-9033bd31e753",
   "metadata": {},
   "outputs": [
    {
     "data": {
      "text/html": [
       "<div>\n",
       "<style scoped>\n",
       "    .dataframe tbody tr th:only-of-type {\n",
       "        vertical-align: middle;\n",
       "    }\n",
       "\n",
       "    .dataframe tbody tr th {\n",
       "        vertical-align: top;\n",
       "    }\n",
       "\n",
       "    .dataframe thead th {\n",
       "        text-align: right;\n",
       "    }\n",
       "</style>\n",
       "<table border=\"1\" class=\"dataframe\">\n",
       "  <thead>\n",
       "    <tr style=\"text-align: right;\">\n",
       "      <th></th>\n",
       "      <th>e_prod</th>\n",
       "      <th>year</th>\n",
       "      <th>e_temp_change</th>\n",
       "      <th>e_export</th>\n",
       "      <th>e_consumption</th>\n",
       "    </tr>\n",
       "  </thead>\n",
       "  <tbody>\n",
       "    <tr>\n",
       "      <th>0</th>\n",
       "      <td>2909.451</td>\n",
       "      <td>1990/91</td>\n",
       "      <td>NaN</td>\n",
       "      <td>NaN</td>\n",
       "      <td>NaN</td>\n",
       "    </tr>\n",
       "    <tr>\n",
       "      <th>1</th>\n",
       "      <td>2924.664</td>\n",
       "      <td>1991/92</td>\n",
       "      <td>NaN</td>\n",
       "      <td>NaN</td>\n",
       "      <td>NaN</td>\n",
       "    </tr>\n",
       "    <tr>\n",
       "      <th>2</th>\n",
       "      <td>1825.171</td>\n",
       "      <td>1992/93</td>\n",
       "      <td>NaN</td>\n",
       "      <td>NaN</td>\n",
       "      <td>NaN</td>\n",
       "    </tr>\n",
       "    <tr>\n",
       "      <th>3</th>\n",
       "      <td>2967.004</td>\n",
       "      <td>1993/94</td>\n",
       "      <td>NaN</td>\n",
       "      <td>NaN</td>\n",
       "      <td>NaN</td>\n",
       "    </tr>\n",
       "    <tr>\n",
       "      <th>4</th>\n",
       "      <td>2762.73</td>\n",
       "      <td>1994/95</td>\n",
       "      <td>NaN</td>\n",
       "      <td>NaN</td>\n",
       "      <td>NaN</td>\n",
       "    </tr>\n",
       "    <tr>\n",
       "      <th>...</th>\n",
       "      <td>...</td>\n",
       "      <td>...</td>\n",
       "      <td>...</td>\n",
       "      <td>...</td>\n",
       "      <td>...</td>\n",
       "    </tr>\n",
       "    <tr>\n",
       "      <th>113</th>\n",
       "      <td>NaN</td>\n",
       "      <td>2015/16</td>\n",
       "      <td>NaN</td>\n",
       "      <td>NaN</td>\n",
       "      <td>3501</td>\n",
       "    </tr>\n",
       "    <tr>\n",
       "      <th>114</th>\n",
       "      <td>NaN</td>\n",
       "      <td>2016/17</td>\n",
       "      <td>NaN</td>\n",
       "      <td>NaN</td>\n",
       "      <td>3571</td>\n",
       "    </tr>\n",
       "    <tr>\n",
       "      <th>115</th>\n",
       "      <td>NaN</td>\n",
       "      <td>2017/18</td>\n",
       "      <td>NaN</td>\n",
       "      <td>NaN</td>\n",
       "      <td>3643</td>\n",
       "    </tr>\n",
       "    <tr>\n",
       "      <th>116</th>\n",
       "      <td>NaN</td>\n",
       "      <td>2018/19</td>\n",
       "      <td>NaN</td>\n",
       "      <td>NaN</td>\n",
       "      <td>3685</td>\n",
       "    </tr>\n",
       "    <tr>\n",
       "      <th>117</th>\n",
       "      <td>NaN</td>\n",
       "      <td>2019/20</td>\n",
       "      <td>NaN</td>\n",
       "      <td>NaN</td>\n",
       "      <td>3781</td>\n",
       "    </tr>\n",
       "  </tbody>\n",
       "</table>\n",
       "<p>118 rows × 5 columns</p>\n",
       "</div>"
      ],
      "text/plain": [
       "       e_prod     year  e_temp_change e_export e_consumption\n",
       "0    2909.451  1990/91            NaN      NaN           NaN\n",
       "1    2924.664  1991/92            NaN      NaN           NaN\n",
       "2    1825.171  1992/93            NaN      NaN           NaN\n",
       "3    2967.004  1993/94            NaN      NaN           NaN\n",
       "4     2762.73  1994/95            NaN      NaN           NaN\n",
       "..        ...      ...            ...      ...           ...\n",
       "113       NaN  2015/16            NaN      NaN          3501\n",
       "114       NaN  2016/17            NaN      NaN          3571\n",
       "115       NaN  2017/18            NaN      NaN          3643\n",
       "116       NaN  2018/19            NaN      NaN          3685\n",
       "117       NaN  2019/20            NaN      NaN          3781\n",
       "\n",
       "[118 rows x 5 columns]"
      ]
     },
     "execution_count": 44,
     "metadata": {},
     "output_type": "execute_result"
    }
   ],
   "source": [
    "ethiopia_df.drop(columns='index')"
   ]
  },
  {
   "cell_type": "code",
   "execution_count": 45,
   "id": "5c2af31f-e9e3-4c34-ba90-97c47a27d2b8",
   "metadata": {},
   "outputs": [],
   "source": [
    "ethiopia_df = ethiopia_df[['year','e_prod','e_temp_change','e_export','e_consumption']]"
   ]
  },
  {
   "cell_type": "code",
   "execution_count": 46,
   "id": "3a612012-f5fd-4067-b02a-38141e07a047",
   "metadata": {},
   "outputs": [
    {
     "data": {
      "text/html": [
       "<div>\n",
       "<style scoped>\n",
       "    .dataframe tbody tr th:only-of-type {\n",
       "        vertical-align: middle;\n",
       "    }\n",
       "\n",
       "    .dataframe tbody tr th {\n",
       "        vertical-align: top;\n",
       "    }\n",
       "\n",
       "    .dataframe thead th {\n",
       "        text-align: right;\n",
       "    }\n",
       "</style>\n",
       "<table border=\"1\" class=\"dataframe\">\n",
       "  <thead>\n",
       "    <tr style=\"text-align: right;\">\n",
       "      <th></th>\n",
       "      <th>year</th>\n",
       "      <th>e_prod</th>\n",
       "      <th>e_temp_change</th>\n",
       "      <th>e_export</th>\n",
       "      <th>e_consumption</th>\n",
       "    </tr>\n",
       "  </thead>\n",
       "  <tbody>\n",
       "    <tr>\n",
       "      <th>0</th>\n",
       "      <td>1990/91</td>\n",
       "      <td>2909.451</td>\n",
       "      <td>NaN</td>\n",
       "      <td>NaN</td>\n",
       "      <td>NaN</td>\n",
       "    </tr>\n",
       "    <tr>\n",
       "      <th>1</th>\n",
       "      <td>1991/92</td>\n",
       "      <td>2924.664</td>\n",
       "      <td>NaN</td>\n",
       "      <td>NaN</td>\n",
       "      <td>NaN</td>\n",
       "    </tr>\n",
       "    <tr>\n",
       "      <th>2</th>\n",
       "      <td>1992/93</td>\n",
       "      <td>1825.171</td>\n",
       "      <td>NaN</td>\n",
       "      <td>NaN</td>\n",
       "      <td>NaN</td>\n",
       "    </tr>\n",
       "    <tr>\n",
       "      <th>3</th>\n",
       "      <td>1993/94</td>\n",
       "      <td>2967.004</td>\n",
       "      <td>NaN</td>\n",
       "      <td>NaN</td>\n",
       "      <td>NaN</td>\n",
       "    </tr>\n",
       "    <tr>\n",
       "      <th>4</th>\n",
       "      <td>1994/95</td>\n",
       "      <td>2762.73</td>\n",
       "      <td>NaN</td>\n",
       "      <td>NaN</td>\n",
       "      <td>NaN</td>\n",
       "    </tr>\n",
       "    <tr>\n",
       "      <th>...</th>\n",
       "      <td>...</td>\n",
       "      <td>...</td>\n",
       "      <td>...</td>\n",
       "      <td>...</td>\n",
       "      <td>...</td>\n",
       "    </tr>\n",
       "    <tr>\n",
       "      <th>113</th>\n",
       "      <td>2015/16</td>\n",
       "      <td>NaN</td>\n",
       "      <td>NaN</td>\n",
       "      <td>NaN</td>\n",
       "      <td>3501</td>\n",
       "    </tr>\n",
       "    <tr>\n",
       "      <th>114</th>\n",
       "      <td>2016/17</td>\n",
       "      <td>NaN</td>\n",
       "      <td>NaN</td>\n",
       "      <td>NaN</td>\n",
       "      <td>3571</td>\n",
       "    </tr>\n",
       "    <tr>\n",
       "      <th>115</th>\n",
       "      <td>2017/18</td>\n",
       "      <td>NaN</td>\n",
       "      <td>NaN</td>\n",
       "      <td>NaN</td>\n",
       "      <td>3643</td>\n",
       "    </tr>\n",
       "    <tr>\n",
       "      <th>116</th>\n",
       "      <td>2018/19</td>\n",
       "      <td>NaN</td>\n",
       "      <td>NaN</td>\n",
       "      <td>NaN</td>\n",
       "      <td>3685</td>\n",
       "    </tr>\n",
       "    <tr>\n",
       "      <th>117</th>\n",
       "      <td>2019/20</td>\n",
       "      <td>NaN</td>\n",
       "      <td>NaN</td>\n",
       "      <td>NaN</td>\n",
       "      <td>3781</td>\n",
       "    </tr>\n",
       "  </tbody>\n",
       "</table>\n",
       "<p>118 rows × 5 columns</p>\n",
       "</div>"
      ],
      "text/plain": [
       "        year    e_prod  e_temp_change e_export e_consumption\n",
       "0    1990/91  2909.451            NaN      NaN           NaN\n",
       "1    1991/92  2924.664            NaN      NaN           NaN\n",
       "2    1992/93  1825.171            NaN      NaN           NaN\n",
       "3    1993/94  2967.004            NaN      NaN           NaN\n",
       "4    1994/95   2762.73            NaN      NaN           NaN\n",
       "..       ...       ...            ...      ...           ...\n",
       "113  2015/16       NaN            NaN      NaN          3501\n",
       "114  2016/17       NaN            NaN      NaN          3571\n",
       "115  2017/18       NaN            NaN      NaN          3643\n",
       "116  2018/19       NaN            NaN      NaN          3685\n",
       "117  2019/20       NaN            NaN      NaN          3781\n",
       "\n",
       "[118 rows x 5 columns]"
      ]
     },
     "execution_count": 46,
     "metadata": {},
     "output_type": "execute_result"
    }
   ],
   "source": [
    "ethiopia_df"
   ]
  },
  {
   "cell_type": "code",
   "execution_count": null,
   "id": "1409c186-ffc8-4784-8db1-899de9f3c4cc",
   "metadata": {},
   "outputs": [],
   "source": [
    "ethiopia_df.to_csv('./data/Ethiopia/ethiopia_df.csv'"
   ]
  }
 ],
 "metadata": {
  "kernelspec": {
   "display_name": "Python 3 (ipykernel)",
   "language": "python",
   "name": "python3"
  },
  "language_info": {
   "codemirror_mode": {
    "name": "ipython",
    "version": 3
   },
   "file_extension": ".py",
   "mimetype": "text/x-python",
   "name": "python",
   "nbconvert_exporter": "python",
   "pygments_lexer": "ipython3",
   "version": "3.9.12"
  }
 },
 "nbformat": 4,
 "nbformat_minor": 5
}
