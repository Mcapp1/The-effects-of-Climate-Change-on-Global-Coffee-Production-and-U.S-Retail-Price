{
 "cells": [
  {
   "cell_type": "code",
   "execution_count": 1,
   "id": "da2bb6b6",
   "metadata": {},
   "outputs": [],
   "source": [
    "import pandas as pd\n",
    "import seaborn as sns"
   ]
  },
  {
   "cell_type": "markdown",
   "id": "7303b590-9c56-4462-9b24-2f584e759b16",
   "metadata": {},
   "source": [
    "## Ethiopia Production"
   ]
  },
  {
   "cell_type": "code",
   "execution_count": 2,
   "id": "c4e5eda0",
   "metadata": {},
   "outputs": [],
   "source": [
    "prod_df = pd.read_csv('./data/production.csv')"
   ]
  },
  {
   "cell_type": "code",
   "execution_count": 3,
   "id": "92160336",
   "metadata": {},
   "outputs": [
    {
     "data": {
      "text/plain": [
       "(56, 32)"
      ]
     },
     "execution_count": 3,
     "metadata": {},
     "output_type": "execute_result"
    }
   ],
   "source": [
    "prod_df.shape"
   ]
  },
  {
   "cell_type": "code",
   "execution_count": 4,
   "id": "dff81dde",
   "metadata": {},
   "outputs": [],
   "source": [
    "prod_df = prod_df.T"
   ]
  },
  {
   "cell_type": "code",
   "execution_count": 5,
   "id": "4357bbb7",
   "metadata": {
    "scrolled": true
   },
   "outputs": [],
   "source": [
    "e_prod = pd.DataFrame(prod_df)"
   ]
  },
  {
   "cell_type": "code",
   "execution_count": 6,
   "id": "a66d2f4f",
   "metadata": {},
   "outputs": [],
   "source": [
    "header = e_prod.iloc[0]\n",
    "e_prod = e_prod[1:]\n",
    "e_prod.columns = header"
   ]
  },
  {
   "cell_type": "code",
   "execution_count": 7,
   "id": "a2df2d12-8e8f-4b71-9b2e-43eb693f2f5f",
   "metadata": {},
   "outputs": [],
   "source": [
    "#setting column name as the country names\n",
    "e_prod.columns = e_prod.iloc[0]"
   ]
  },
  {
   "cell_type": "code",
   "execution_count": 8,
   "id": "86c67edb-5d06-4cc1-b334-1b908e639024",
   "metadata": {},
   "outputs": [],
   "source": [
    "# dropping first row\n",
    "e_prod = e_prod.iloc[1:]"
   ]
  },
  {
   "cell_type": "code",
   "execution_count": 9,
   "id": "90946cbe-534b-4fa4-a329-4d5b420ca6f5",
   "metadata": {},
   "outputs": [],
   "source": [
    "e_prod = e_prod[['Ethiopia']]"
   ]
  },
  {
   "cell_type": "code",
   "execution_count": 10,
   "id": "4ecbf13f-011f-4565-bd8e-2f822e758cc5",
   "metadata": {},
   "outputs": [],
   "source": [
    "e_prod['year'] = e_prod.index"
   ]
  },
  {
   "cell_type": "code",
   "execution_count": 11,
   "id": "3c036ccf-6002-4177-8573-dde84411fa56",
   "metadata": {},
   "outputs": [],
   "source": [
    "e_prod.columns = [col.lower().strip().replace(' ', '_')\n",
    "    for col in e_prod.columns]"
   ]
  },
  {
   "cell_type": "code",
   "execution_count": 12,
   "id": "979c8dc6-cbe8-41ab-a2ab-dc3ef356e09b",
   "metadata": {},
   "outputs": [],
   "source": [
    "e_prod = e_prod.rename(columns = {'ethiopia':'e_prod'})"
   ]
  },
  {
   "cell_type": "code",
   "execution_count": 13,
   "id": "acee751b",
   "metadata": {},
   "outputs": [
    {
     "data": {
      "text/html": [
       "<div>\n",
       "<style scoped>\n",
       "    .dataframe tbody tr th:only-of-type {\n",
       "        vertical-align: middle;\n",
       "    }\n",
       "\n",
       "    .dataframe tbody tr th {\n",
       "        vertical-align: top;\n",
       "    }\n",
       "\n",
       "    .dataframe thead th {\n",
       "        text-align: right;\n",
       "    }\n",
       "</style>\n",
       "<table border=\"1\" class=\"dataframe\">\n",
       "  <thead>\n",
       "    <tr style=\"text-align: right;\">\n",
       "      <th></th>\n",
       "      <th>e_prod</th>\n",
       "      <th>year</th>\n",
       "    </tr>\n",
       "  </thead>\n",
       "  <tbody>\n",
       "    <tr>\n",
       "      <th>1990/91</th>\n",
       "      <td>2909.451</td>\n",
       "      <td>1990/91</td>\n",
       "    </tr>\n",
       "    <tr>\n",
       "      <th>1991/92</th>\n",
       "      <td>2924.664</td>\n",
       "      <td>1991/92</td>\n",
       "    </tr>\n",
       "    <tr>\n",
       "      <th>1992/93</th>\n",
       "      <td>1825.171</td>\n",
       "      <td>1992/93</td>\n",
       "    </tr>\n",
       "    <tr>\n",
       "      <th>1993/94</th>\n",
       "      <td>2967.004</td>\n",
       "      <td>1993/94</td>\n",
       "    </tr>\n",
       "    <tr>\n",
       "      <th>1994/95</th>\n",
       "      <td>2762.73</td>\n",
       "      <td>1994/95</td>\n",
       "    </tr>\n",
       "  </tbody>\n",
       "</table>\n",
       "</div>"
      ],
      "text/plain": [
       "           e_prod     year\n",
       "1990/91  2909.451  1990/91\n",
       "1991/92  2924.664  1991/92\n",
       "1992/93  1825.171  1992/93\n",
       "1993/94  2967.004  1993/94\n",
       "1994/95   2762.73  1994/95"
      ]
     },
     "execution_count": 13,
     "metadata": {},
     "output_type": "execute_result"
    }
   ],
   "source": [
    "e_prod.head()"
   ]
  },
  {
   "cell_type": "code",
   "execution_count": 18,
   "id": "534b4f94",
   "metadata": {},
   "outputs": [],
   "source": [
    "e_prod['year'] = e_prod['year'].apply(\n",
    "    lambda x:(x.split('/')[0]))"
   ]
  },
  {
   "cell_type": "code",
   "execution_count": 19,
   "id": "57b9ffa3",
   "metadata": {},
   "outputs": [],
   "source": [
    "e_prod['year'] = e_prod['year'].astype(float)"
   ]
  },
  {
   "cell_type": "code",
   "execution_count": 20,
   "id": "bdbd6329",
   "metadata": {},
   "outputs": [],
   "source": [
    "e_prod['e_prod'] = e_prod['e_prod'].astype(float)"
   ]
  },
  {
   "cell_type": "markdown",
   "id": "8a77f1fa",
   "metadata": {},
   "source": [
    "## Retail Prices"
   ]
  },
  {
   "cell_type": "code",
   "execution_count": 21,
   "id": "572da03d",
   "metadata": {},
   "outputs": [],
   "source": [
    "retail_prices = pd.read_excel('./data/3b - retail_prices.xlsx')"
   ]
  },
  {
   "cell_type": "code",
   "execution_count": 22,
   "id": "ae8ec8f8",
   "metadata": {
    "scrolled": true,
    "tags": []
   },
   "outputs": [
    {
     "data": {
      "text/html": [
       "<div>\n",
       "<style scoped>\n",
       "    .dataframe tbody tr th:only-of-type {\n",
       "        vertical-align: middle;\n",
       "    }\n",
       "\n",
       "    .dataframe tbody tr th {\n",
       "        vertical-align: top;\n",
       "    }\n",
       "\n",
       "    .dataframe thead th {\n",
       "        text-align: right;\n",
       "    }\n",
       "</style>\n",
       "<table border=\"1\" class=\"dataframe\">\n",
       "  <thead>\n",
       "    <tr style=\"text-align: right;\">\n",
       "      <th></th>\n",
       "      <th>Year</th>\n",
       "      <th>Austria</th>\n",
       "      <th>Belgium</th>\n",
       "      <th>Bulgaria</th>\n",
       "      <th>Cyprus</th>\n",
       "      <th>Czechia</th>\n",
       "      <th>Denmark</th>\n",
       "      <th>Finland</th>\n",
       "      <th>France</th>\n",
       "      <th>Germany</th>\n",
       "      <th>...</th>\n",
       "      <th>Slovakia</th>\n",
       "      <th>Slovenia</th>\n",
       "      <th>Spain</th>\n",
       "      <th>Sweden</th>\n",
       "      <th>Japan</th>\n",
       "      <th>Norway</th>\n",
       "      <th>Russian Federation</th>\n",
       "      <th>Switzerland</th>\n",
       "      <th>United Kingdom 1</th>\n",
       "      <th>United States of America</th>\n",
       "    </tr>\n",
       "  </thead>\n",
       "  <tbody>\n",
       "    <tr>\n",
       "      <th>0</th>\n",
       "      <td>1990</td>\n",
       "      <td>4.90</td>\n",
       "      <td>3.27</td>\n",
       "      <td>NaN</td>\n",
       "      <td>2.83</td>\n",
       "      <td>NaN</td>\n",
       "      <td>3.81</td>\n",
       "      <td>2.98</td>\n",
       "      <td>3.73</td>\n",
       "      <td>3.99</td>\n",
       "      <td>...</td>\n",
       "      <td>NaN</td>\n",
       "      <td>NaN</td>\n",
       "      <td>3.62</td>\n",
       "      <td>3.43</td>\n",
       "      <td>10.26</td>\n",
       "      <td>3.31</td>\n",
       "      <td>NaN</td>\n",
       "      <td>4.83</td>\n",
       "      <td>10.55</td>\n",
       "      <td>2.97</td>\n",
       "    </tr>\n",
       "    <tr>\n",
       "      <th>1</th>\n",
       "      <td>1991</td>\n",
       "      <td>4.57</td>\n",
       "      <td>2.92</td>\n",
       "      <td>NaN</td>\n",
       "      <td>2.80</td>\n",
       "      <td>NaN</td>\n",
       "      <td>3.67</td>\n",
       "      <td>2.72</td>\n",
       "      <td>3.43</td>\n",
       "      <td>3.84</td>\n",
       "      <td>...</td>\n",
       "      <td>NaN</td>\n",
       "      <td>NaN</td>\n",
       "      <td>3.50</td>\n",
       "      <td>3.29</td>\n",
       "      <td>11.88</td>\n",
       "      <td>3.16</td>\n",
       "      <td>NaN</td>\n",
       "      <td>4.36</td>\n",
       "      <td>10.41</td>\n",
       "      <td>2.81</td>\n",
       "    </tr>\n",
       "    <tr>\n",
       "      <th>2</th>\n",
       "      <td>1992</td>\n",
       "      <td>4.99</td>\n",
       "      <td>3.05</td>\n",
       "      <td>NaN</td>\n",
       "      <td>2.87</td>\n",
       "      <td>NaN</td>\n",
       "      <td>3.79</td>\n",
       "      <td>2.46</td>\n",
       "      <td>2.31</td>\n",
       "      <td>4.00</td>\n",
       "      <td>...</td>\n",
       "      <td>NaN</td>\n",
       "      <td>NaN</td>\n",
       "      <td>3.50</td>\n",
       "      <td>3.11</td>\n",
       "      <td>12.62</td>\n",
       "      <td>3.12</td>\n",
       "      <td>NaN</td>\n",
       "      <td>4.52</td>\n",
       "      <td>10.09</td>\n",
       "      <td>2.58</td>\n",
       "    </tr>\n",
       "    <tr>\n",
       "      <th>3</th>\n",
       "      <td>1993</td>\n",
       "      <td>4.97</td>\n",
       "      <td>2.78</td>\n",
       "      <td>NaN</td>\n",
       "      <td>2.60</td>\n",
       "      <td>NaN</td>\n",
       "      <td>3.48</td>\n",
       "      <td>1.94</td>\n",
       "      <td>2.03</td>\n",
       "      <td>3.62</td>\n",
       "      <td>...</td>\n",
       "      <td>NaN</td>\n",
       "      <td>NaN</td>\n",
       "      <td>2.79</td>\n",
       "      <td>2.65</td>\n",
       "      <td>14.57</td>\n",
       "      <td>2.46</td>\n",
       "      <td>NaN</td>\n",
       "      <td>4.27</td>\n",
       "      <td>8.44</td>\n",
       "      <td>2.47</td>\n",
       "    </tr>\n",
       "    <tr>\n",
       "      <th>4</th>\n",
       "      <td>1994</td>\n",
       "      <td>4.58</td>\n",
       "      <td>3.42</td>\n",
       "      <td>NaN</td>\n",
       "      <td>3.18</td>\n",
       "      <td>NaN</td>\n",
       "      <td>4.45</td>\n",
       "      <td>2.73</td>\n",
       "      <td>2.40</td>\n",
       "      <td>4.18</td>\n",
       "      <td>...</td>\n",
       "      <td>NaN</td>\n",
       "      <td>NaN</td>\n",
       "      <td>2.76</td>\n",
       "      <td>3.79</td>\n",
       "      <td>14.69</td>\n",
       "      <td>3.29</td>\n",
       "      <td>NaN</td>\n",
       "      <td>4.50</td>\n",
       "      <td>11.36</td>\n",
       "      <td>3.40</td>\n",
       "    </tr>\n",
       "  </tbody>\n",
       "</table>\n",
       "<p>5 rows × 29 columns</p>\n",
       "</div>"
      ],
      "text/plain": [
       "   Year     Austria     Belgium     Bulgaria     Cyprus     Czechia  \\\n",
       "0  1990        4.90        3.27          NaN       2.83         NaN   \n",
       "1  1991        4.57        2.92          NaN       2.80         NaN   \n",
       "2  1992        4.99        3.05          NaN       2.87         NaN   \n",
       "3  1993        4.97        2.78          NaN       2.60         NaN   \n",
       "4  1994        4.58        3.42          NaN       3.18         NaN   \n",
       "\n",
       "      Denmark     Finland     France     Germany  ...     Slovakia  \\\n",
       "0        3.81        2.98       3.73        3.99  ...          NaN   \n",
       "1        3.67        2.72       3.43        3.84  ...          NaN   \n",
       "2        3.79        2.46       2.31        4.00  ...          NaN   \n",
       "3        3.48        1.94       2.03        3.62  ...          NaN   \n",
       "4        4.45        2.73       2.40        4.18  ...          NaN   \n",
       "\n",
       "      Slovenia     Spain     Sweden  Japan  Norway  Russian Federation  \\\n",
       "0          NaN      3.62       3.43  10.26    3.31                 NaN   \n",
       "1          NaN      3.50       3.29  11.88    3.16                 NaN   \n",
       "2          NaN      3.50       3.11  12.62    3.12                 NaN   \n",
       "3          NaN      2.79       2.65  14.57    2.46                 NaN   \n",
       "4          NaN      2.76       3.79  14.69    3.29                 NaN   \n",
       "\n",
       "   Switzerland  United Kingdom 1  United States of America  \n",
       "0         4.83             10.55                      2.97  \n",
       "1         4.36             10.41                      2.81  \n",
       "2         4.52             10.09                      2.58  \n",
       "3         4.27              8.44                      2.47  \n",
       "4         4.50             11.36                      3.40  \n",
       "\n",
       "[5 rows x 29 columns]"
      ]
     },
     "execution_count": 22,
     "metadata": {},
     "output_type": "execute_result"
    }
   ],
   "source": [
    "retail_prices.head()"
   ]
  },
  {
   "cell_type": "markdown",
   "id": "623ece89",
   "metadata": {},
   "source": [
    "## Ethiopia Temp "
   ]
  },
  {
   "cell_type": "code",
   "execution_count": 23,
   "id": "67af8df7-f179-4bcd-ad07-656915e98a0a",
   "metadata": {},
   "outputs": [],
   "source": [
    "temp_df = pd.read_csv('data/Ethiopia/FAOSTAT_data_1-10-2022.csv')"
   ]
  },
  {
   "cell_type": "code",
   "execution_count": 24,
   "id": "e4de9f2f",
   "metadata": {},
   "outputs": [],
   "source": [
    "ethiopia_temp_change = temp_df[temp_df.Area == 'Ethiopia']"
   ]
  },
  {
   "cell_type": "code",
   "execution_count": 25,
   "id": "6ed694c0",
   "metadata": {},
   "outputs": [],
   "source": [
    "ethiopia_temp_change.columns = [col.lower().strip().replace(' ', '_')\n",
    "    for col in ethiopia_temp_change.columns]"
   ]
  },
  {
   "cell_type": "code",
   "execution_count": 26,
   "id": "3d01d503",
   "metadata": {},
   "outputs": [],
   "source": [
    "ethiopia_temp_change = ethiopia_temp_change[ethiopia_temp_change['months']=='Meteorological year'].sort_values(by=['months', 'year'], ascending= False)"
   ]
  },
  {
   "cell_type": "code",
   "execution_count": 27,
   "id": "f42c6530",
   "metadata": {
    "scrolled": true
   },
   "outputs": [],
   "source": [
    "e_temp_change = ethiopia_temp_change[['year','value']].iloc[::-1]"
   ]
  },
  {
   "cell_type": "code",
   "execution_count": 28,
   "id": "cdde3d89-84ea-416a-82d7-d849890b84ac",
   "metadata": {},
   "outputs": [],
   "source": [
    "e_temp_change.rename(columns={'value':'e_temp_change'}, inplace = True)"
   ]
  },
  {
   "cell_type": "code",
   "execution_count": 29,
   "id": "f39367de-45ac-4f8a-a125-e86d47a5847b",
   "metadata": {},
   "outputs": [
    {
     "data": {
      "text/html": [
       "<div>\n",
       "<style scoped>\n",
       "    .dataframe tbody tr th:only-of-type {\n",
       "        vertical-align: middle;\n",
       "    }\n",
       "\n",
       "    .dataframe tbody tr th {\n",
       "        vertical-align: top;\n",
       "    }\n",
       "\n",
       "    .dataframe thead th {\n",
       "        text-align: right;\n",
       "    }\n",
       "</style>\n",
       "<table border=\"1\" class=\"dataframe\">\n",
       "  <thead>\n",
       "    <tr style=\"text-align: right;\">\n",
       "      <th></th>\n",
       "      <th>year</th>\n",
       "      <th>e_temp_change</th>\n",
       "    </tr>\n",
       "  </thead>\n",
       "  <tbody>\n",
       "    <tr>\n",
       "      <th>70182</th>\n",
       "      <td>1993</td>\n",
       "      <td>0.244</td>\n",
       "    </tr>\n",
       "    <tr>\n",
       "      <th>70183</th>\n",
       "      <td>1994</td>\n",
       "      <td>0.599</td>\n",
       "    </tr>\n",
       "    <tr>\n",
       "      <th>70184</th>\n",
       "      <td>1995</td>\n",
       "      <td>0.815</td>\n",
       "    </tr>\n",
       "    <tr>\n",
       "      <th>70185</th>\n",
       "      <td>1996</td>\n",
       "      <td>0.775</td>\n",
       "    </tr>\n",
       "    <tr>\n",
       "      <th>70186</th>\n",
       "      <td>1997</td>\n",
       "      <td>0.713</td>\n",
       "    </tr>\n",
       "  </tbody>\n",
       "</table>\n",
       "</div>"
      ],
      "text/plain": [
       "       year  e_temp_change\n",
       "70182  1993          0.244\n",
       "70183  1994          0.599\n",
       "70184  1995          0.815\n",
       "70185  1996          0.775\n",
       "70186  1997          0.713"
      ]
     },
     "execution_count": 29,
     "metadata": {},
     "output_type": "execute_result"
    }
   ],
   "source": [
    "e_temp_change.head()"
   ]
  },
  {
   "cell_type": "code",
   "execution_count": 30,
   "id": "bd5d5a76",
   "metadata": {},
   "outputs": [],
   "source": [
    "e_temp_change['year'] = e_temp_change['year'].astype(float)"
   ]
  },
  {
   "cell_type": "markdown",
   "id": "bdc0004c",
   "metadata": {},
   "source": [
    "## Ethiopia Exports"
   ]
  },
  {
   "cell_type": "code",
   "execution_count": 31,
   "id": "6ce8bf8b",
   "metadata": {},
   "outputs": [],
   "source": [
    "e_export = pd.read_excel('./data/2a - Exports - calendar year.xlsx')"
   ]
  },
  {
   "cell_type": "code",
   "execution_count": 32,
   "id": "79204cbe",
   "metadata": {},
   "outputs": [],
   "source": [
    "e_export.dropna(inplace = True)"
   ]
  },
  {
   "cell_type": "code",
   "execution_count": 33,
   "id": "2130d779",
   "metadata": {},
   "outputs": [],
   "source": [
    "e_export = e_export.T"
   ]
  },
  {
   "cell_type": "code",
   "execution_count": 34,
   "id": "3ce2defc",
   "metadata": {
    "scrolled": true
   },
   "outputs": [],
   "source": [
    "new_header = e_export.iloc[0]\n",
    "e_export = e_export[1:] \n",
    "e_export.columns = new_header "
   ]
  },
  {
   "cell_type": "code",
   "execution_count": 35,
   "id": "5e69925b-a6e4-409c-9961-f1e70a9aabca",
   "metadata": {},
   "outputs": [],
   "source": [
    "e_export.columns = [col.lower().strip().replace(' ','_') \n",
    "                         for col in e_export.columns]"
   ]
  },
  {
   "cell_type": "code",
   "execution_count": 36,
   "id": "0525bfe1-5895-4025-a13a-81d6d412e396",
   "metadata": {},
   "outputs": [],
   "source": [
    "e_export = e_export[['calendar_years','ethiopia']]"
   ]
  },
  {
   "cell_type": "code",
   "execution_count": 37,
   "id": "1fc5449a-fe33-4ffc-a310-ee10ed067f15",
   "metadata": {},
   "outputs": [],
   "source": [
    "e_export.rename(columns={'calendar_years':'year', 'ethiopia':'e_export'}, inplace = True)"
   ]
  },
  {
   "cell_type": "code",
   "execution_count": 38,
   "id": "0edb6de9",
   "metadata": {},
   "outputs": [],
   "source": [
    "e_export['year'] = e_export['year'].apply(\n",
    "    lambda x:(str(x).split('.')[0]))"
   ]
  },
  {
   "cell_type": "code",
   "execution_count": 39,
   "id": "54fc5984-f1c5-4924-a3fd-dd36beb423f4",
   "metadata": {
    "scrolled": true
   },
   "outputs": [
    {
     "data": {
      "text/html": [
       "<div>\n",
       "<style scoped>\n",
       "    .dataframe tbody tr th:only-of-type {\n",
       "        vertical-align: middle;\n",
       "    }\n",
       "\n",
       "    .dataframe tbody tr th {\n",
       "        vertical-align: top;\n",
       "    }\n",
       "\n",
       "    .dataframe thead th {\n",
       "        text-align: right;\n",
       "    }\n",
       "</style>\n",
       "<table border=\"1\" class=\"dataframe\">\n",
       "  <thead>\n",
       "    <tr style=\"text-align: right;\">\n",
       "      <th></th>\n",
       "      <th>year</th>\n",
       "      <th>e_export</th>\n",
       "    </tr>\n",
       "  </thead>\n",
       "  <tbody>\n",
       "    <tr>\n",
       "      <th>Unnamed: 1</th>\n",
       "      <td>1990</td>\n",
       "      <td>1074.101</td>\n",
       "    </tr>\n",
       "    <tr>\n",
       "      <th>Unnamed: 2</th>\n",
       "      <td>1991</td>\n",
       "      <td>841.329</td>\n",
       "    </tr>\n",
       "    <tr>\n",
       "      <th>Unnamed: 3</th>\n",
       "      <td>1992</td>\n",
       "      <td>734.461</td>\n",
       "    </tr>\n",
       "    <tr>\n",
       "      <th>Unnamed: 4</th>\n",
       "      <td>1993</td>\n",
       "      <td>1166.778</td>\n",
       "    </tr>\n",
       "    <tr>\n",
       "      <th>Unnamed: 5</th>\n",
       "      <td>1994</td>\n",
       "      <td>1475.325</td>\n",
       "    </tr>\n",
       "  </tbody>\n",
       "</table>\n",
       "</div>"
      ],
      "text/plain": [
       "            year  e_export\n",
       "Unnamed: 1  1990  1074.101\n",
       "Unnamed: 2  1991   841.329\n",
       "Unnamed: 3  1992   734.461\n",
       "Unnamed: 4  1993  1166.778\n",
       "Unnamed: 5  1994  1475.325"
      ]
     },
     "execution_count": 39,
     "metadata": {},
     "output_type": "execute_result"
    }
   ],
   "source": [
    "e_export.head()"
   ]
  },
  {
   "cell_type": "code",
   "execution_count": 40,
   "id": "e07014aa",
   "metadata": {},
   "outputs": [],
   "source": [
    "e_export['year'] = e_export['year'].astype(float)"
   ]
  },
  {
   "cell_type": "code",
   "execution_count": 41,
   "id": "7caaef3a",
   "metadata": {},
   "outputs": [],
   "source": [
    "e_export['e_export'] = e_export['e_export'].astype(float)"
   ]
  },
  {
   "cell_type": "markdown",
   "id": "4a16f484-3b89-4cac-bd23-f9c3283c4ba6",
   "metadata": {},
   "source": [
    "## Ethiopia Domestic Consumption (Disappearance)"
   ]
  },
  {
   "cell_type": "code",
   "execution_count": 42,
   "id": "72047cff-8f44-4f51-84f8-93faa8a1dbc6",
   "metadata": {},
   "outputs": [
    {
     "name": "stderr",
     "output_type": "stream",
     "text": [
      "/Users/sangs/opt/anaconda3/lib/python3.9/site-packages/openpyxl/worksheet/_reader.py:312: UserWarning: Unknown extension is not supported and will be removed\n",
      "  warn(msg)\n"
     ]
    }
   ],
   "source": [
    "e_consumption = pd.read_excel('./data/1b - Domestic consumption.xlsx')"
   ]
  },
  {
   "cell_type": "code",
   "execution_count": 43,
   "id": "763fe434-3534-484e-be6e-455e4ba5b88f",
   "metadata": {},
   "outputs": [],
   "source": [
    "e_consumption = e_consumption.T"
   ]
  },
  {
   "cell_type": "code",
   "execution_count": 44,
   "id": "a488a43d-a74b-45fa-9bb1-62920f305a2b",
   "metadata": {},
   "outputs": [],
   "source": [
    "new_header = e_consumption.iloc[0]\n",
    "e_consumption = e_consumption[1:] \n",
    "e_consumption.columns = new_header "
   ]
  },
  {
   "cell_type": "code",
   "execution_count": 45,
   "id": "060e1252-c9ee-4166-9092-21c475d1548b",
   "metadata": {},
   "outputs": [],
   "source": [
    "e_consumption = e_consumption.drop(e_consumption.index[:1])"
   ]
  },
  {
   "cell_type": "code",
   "execution_count": 46,
   "id": "4e7d5ca1-c14c-4a57-a34a-bc8df693378a",
   "metadata": {},
   "outputs": [],
   "source": [
    "e_consumption = e_consumption.drop(e_consumption.columns[:2], axis = 1)"
   ]
  },
  {
   "cell_type": "code",
   "execution_count": 47,
   "id": "d3a784ac-7c55-4c39-ae8a-0321915c2d82",
   "metadata": {},
   "outputs": [],
   "source": [
    "e_consumption = e_consumption[['Crop year','Ethiopia']]"
   ]
  },
  {
   "cell_type": "code",
   "execution_count": 48,
   "id": "15ca57ce-692f-4c13-8c6f-54288250b838",
   "metadata": {},
   "outputs": [],
   "source": [
    "e_consumption.columns = [col.lower().strip().replace(' ','_') \n",
    "                         for col in e_consumption.columns]"
   ]
  },
  {
   "cell_type": "code",
   "execution_count": 49,
   "id": "9005fa19-e115-4a67-82dd-a3f78122e1e0",
   "metadata": {},
   "outputs": [],
   "source": [
    "e_consumption.rename(columns = {'crop_year':'year',\n",
    "                                'ethiopia':'e_consumption'},\n",
    "                     inplace = True)"
   ]
  },
  {
   "cell_type": "code",
   "execution_count": 50,
   "id": "b93d6fb1",
   "metadata": {},
   "outputs": [],
   "source": [
    "e_consumption['year'] = e_export['year'].apply(\n",
    "    lambda x:(str(x).split('/')[0]))"
   ]
  },
  {
   "cell_type": "code",
   "execution_count": 51,
   "id": "cc1ccb99-46ff-46ac-814c-0493c4f2865e",
   "metadata": {},
   "outputs": [
    {
     "data": {
      "text/html": [
       "<div>\n",
       "<style scoped>\n",
       "    .dataframe tbody tr th:only-of-type {\n",
       "        vertical-align: middle;\n",
       "    }\n",
       "\n",
       "    .dataframe tbody tr th {\n",
       "        vertical-align: top;\n",
       "    }\n",
       "\n",
       "    .dataframe thead th {\n",
       "        text-align: right;\n",
       "    }\n",
       "</style>\n",
       "<table border=\"1\" class=\"dataframe\">\n",
       "  <thead>\n",
       "    <tr style=\"text-align: right;\">\n",
       "      <th></th>\n",
       "      <th>year</th>\n",
       "      <th>e_consumption</th>\n",
       "    </tr>\n",
       "  </thead>\n",
       "  <tbody>\n",
       "    <tr>\n",
       "      <th>Unnamed: 2</th>\n",
       "      <td>1991.0</td>\n",
       "      <td>1200</td>\n",
       "    </tr>\n",
       "    <tr>\n",
       "      <th>Unnamed: 3</th>\n",
       "      <td>1992.0</td>\n",
       "      <td>1264</td>\n",
       "    </tr>\n",
       "    <tr>\n",
       "      <th>Unnamed: 4</th>\n",
       "      <td>1993.0</td>\n",
       "      <td>1331</td>\n",
       "    </tr>\n",
       "    <tr>\n",
       "      <th>Unnamed: 5</th>\n",
       "      <td>1994.0</td>\n",
       "      <td>1402</td>\n",
       "    </tr>\n",
       "    <tr>\n",
       "      <th>Unnamed: 6</th>\n",
       "      <td>1995.0</td>\n",
       "      <td>1476</td>\n",
       "    </tr>\n",
       "  </tbody>\n",
       "</table>\n",
       "</div>"
      ],
      "text/plain": [
       "              year e_consumption\n",
       "Unnamed: 2  1991.0          1200\n",
       "Unnamed: 3  1992.0          1264\n",
       "Unnamed: 4  1993.0          1331\n",
       "Unnamed: 5  1994.0          1402\n",
       "Unnamed: 6  1995.0          1476"
      ]
     },
     "execution_count": 51,
     "metadata": {},
     "output_type": "execute_result"
    }
   ],
   "source": [
    "e_consumption.head()"
   ]
  },
  {
   "cell_type": "code",
   "execution_count": 52,
   "id": "29909290",
   "metadata": {},
   "outputs": [
    {
     "name": "stdout",
     "output_type": "stream",
     "text": [
      "<class 'pandas.core.frame.DataFrame'>\n",
      "Index: 30 entries, Unnamed: 2 to Unnamed: 31\n",
      "Data columns (total 2 columns):\n",
      " #   Column         Non-Null Count  Dtype \n",
      "---  ------         --------------  ----- \n",
      " 0   year           29 non-null     object\n",
      " 1   e_consumption  30 non-null     object\n",
      "dtypes: object(2)\n",
      "memory usage: 720.0+ bytes\n"
     ]
    }
   ],
   "source": [
    "e_consumption.info()"
   ]
  },
  {
   "cell_type": "code",
   "execution_count": 53,
   "id": "d76ffe11",
   "metadata": {},
   "outputs": [],
   "source": [
    "e_consumption['year'] = e_consumption['year'].astype(float)"
   ]
  },
  {
   "cell_type": "code",
   "execution_count": 54,
   "id": "7daa9117",
   "metadata": {},
   "outputs": [],
   "source": [
    "e_consumption['e_consumption'] = e_consumption['e_consumption'].astype(float)"
   ]
  },
  {
   "cell_type": "markdown",
   "id": "2eda7e52",
   "metadata": {},
   "source": [
    "### Ethiopia Avg Temperature"
   ]
  },
  {
   "cell_type": "code",
   "execution_count": 55,
   "id": "d6c85377",
   "metadata": {},
   "outputs": [],
   "source": [
    "e_avg_temp = pd.read_csv('./data/Ethiopia/Ethiopia_mean_temp.csv', header = 1 )"
   ]
  },
  {
   "cell_type": "code",
   "execution_count": 56,
   "id": "f126a94b",
   "metadata": {},
   "outputs": [],
   "source": [
    "e_avg_temp.rename(columns={'Unnamed: 0':'year'}, inplace = True)"
   ]
  },
  {
   "cell_type": "code",
   "execution_count": 57,
   "id": "a72da23f",
   "metadata": {},
   "outputs": [],
   "source": [
    "e_avg_temp = e_avg_temp[['year', 'Ethiopia']]"
   ]
  },
  {
   "cell_type": "code",
   "execution_count": 71,
   "id": "fbba65a7",
   "metadata": {},
   "outputs": [],
   "source": [
    "e_avg_temp.rename(columns={'Ethiopia':'e_avg_temp'}, inplace = True)"
   ]
  },
  {
   "cell_type": "code",
   "execution_count": 72,
   "id": "880d8c29",
   "metadata": {},
   "outputs": [
    {
     "data": {
      "text/html": [
       "<div>\n",
       "<style scoped>\n",
       "    .dataframe tbody tr th:only-of-type {\n",
       "        vertical-align: middle;\n",
       "    }\n",
       "\n",
       "    .dataframe tbody tr th {\n",
       "        vertical-align: top;\n",
       "    }\n",
       "\n",
       "    .dataframe thead th {\n",
       "        text-align: right;\n",
       "    }\n",
       "</style>\n",
       "<table border=\"1\" class=\"dataframe\">\n",
       "  <thead>\n",
       "    <tr style=\"text-align: right;\">\n",
       "      <th></th>\n",
       "      <th>year</th>\n",
       "      <th>e_avg_temp</th>\n",
       "    </tr>\n",
       "  </thead>\n",
       "  <tbody>\n",
       "    <tr>\n",
       "      <th>0</th>\n",
       "      <td>1901.0</td>\n",
       "      <td>22.95</td>\n",
       "    </tr>\n",
       "    <tr>\n",
       "      <th>1</th>\n",
       "      <td>1902.0</td>\n",
       "      <td>22.88</td>\n",
       "    </tr>\n",
       "    <tr>\n",
       "      <th>2</th>\n",
       "      <td>1903.0</td>\n",
       "      <td>22.95</td>\n",
       "    </tr>\n",
       "    <tr>\n",
       "      <th>3</th>\n",
       "      <td>1904.0</td>\n",
       "      <td>22.71</td>\n",
       "    </tr>\n",
       "    <tr>\n",
       "      <th>4</th>\n",
       "      <td>1905.0</td>\n",
       "      <td>22.81</td>\n",
       "    </tr>\n",
       "  </tbody>\n",
       "</table>\n",
       "</div>"
      ],
      "text/plain": [
       "     year  e_avg_temp\n",
       "0  1901.0       22.95\n",
       "1  1902.0       22.88\n",
       "2  1903.0       22.95\n",
       "3  1904.0       22.71\n",
       "4  1905.0       22.81"
      ]
     },
     "execution_count": 72,
     "metadata": {},
     "output_type": "execute_result"
    }
   ],
   "source": [
    "e_avg_temp.head()"
   ]
  },
  {
   "cell_type": "code",
   "execution_count": 73,
   "id": "a86396f5",
   "metadata": {},
   "outputs": [],
   "source": [
    "e_avg_temp['year'] = e_avg_temp['year'].astype(float)"
   ]
  },
  {
   "cell_type": "code",
   "execution_count": 74,
   "id": "606a2d6e",
   "metadata": {},
   "outputs": [
    {
     "name": "stdout",
     "output_type": "stream",
     "text": [
      "<class 'pandas.core.frame.DataFrame'>\n",
      "RangeIndex: 121 entries, 0 to 120\n",
      "Data columns (total 2 columns):\n",
      " #   Column      Non-Null Count  Dtype  \n",
      "---  ------      --------------  -----  \n",
      " 0   year        121 non-null    float64\n",
      " 1   e_avg_temp  121 non-null    float64\n",
      "dtypes: float64(2)\n",
      "memory usage: 2.0 KB\n"
     ]
    }
   ],
   "source": [
    "e_avg_temp.info()"
   ]
  },
  {
   "cell_type": "markdown",
   "id": "2fdbe99a-cba7-4f12-b8f6-dd34f1c5a701",
   "metadata": {},
   "source": [
    "## Merge dataframes"
   ]
  },
  {
   "cell_type": "markdown",
   "id": "2395854c-e68f-4777-84c4-23a52e2d5732",
   "metadata": {},
   "source": [
    "e_prod\n",
    "e_temp_change\n",
    "e_export\n",
    "e_consumption"
   ]
  },
  {
   "cell_type": "code",
   "execution_count": 75,
   "id": "7fa13e66-0077-4366-a685-4a3a8f432f90",
   "metadata": {},
   "outputs": [],
   "source": [
    "prod_temp_df = pd.merge(e_prod, e_temp_change, how='outer', on='year')"
   ]
  },
  {
   "cell_type": "code",
   "execution_count": 76,
   "id": "f8415b90-074e-4cfc-bfe7-618eba1229dc",
   "metadata": {},
   "outputs": [],
   "source": [
    "export_consump = pd.merge(e_export, e_consumption, how='outer', on='year')"
   ]
  },
  {
   "cell_type": "code",
   "execution_count": 77,
   "id": "f54c4b47-64a9-49b9-81b3-5d0f137446ed",
   "metadata": {},
   "outputs": [],
   "source": [
    "ethiopia_df = pd.merge(prod_temp_df, export_consump, how='outer', on='year')"
   ]
  },
  {
   "cell_type": "code",
   "execution_count": 78,
   "id": "97a951e4",
   "metadata": {},
   "outputs": [],
   "source": [
    "ethiopia_df = pd.merge(ethiopia_df, e_avg_temp, how='outer', on='year')"
   ]
  },
  {
   "cell_type": "code",
   "execution_count": 79,
   "id": "e13dd8b7",
   "metadata": {},
   "outputs": [
    {
     "data": {
      "text/html": [
       "<div>\n",
       "<style scoped>\n",
       "    .dataframe tbody tr th:only-of-type {\n",
       "        vertical-align: middle;\n",
       "    }\n",
       "\n",
       "    .dataframe tbody tr th {\n",
       "        vertical-align: top;\n",
       "    }\n",
       "\n",
       "    .dataframe thead th {\n",
       "        text-align: right;\n",
       "    }\n",
       "</style>\n",
       "<table border=\"1\" class=\"dataframe\">\n",
       "  <thead>\n",
       "    <tr style=\"text-align: right;\">\n",
       "      <th></th>\n",
       "      <th>e_prod</th>\n",
       "      <th>year</th>\n",
       "      <th>e_temp_change</th>\n",
       "      <th>e_export</th>\n",
       "      <th>e_consumption</th>\n",
       "      <th>e_avg_temp</th>\n",
       "    </tr>\n",
       "  </thead>\n",
       "  <tbody>\n",
       "    <tr>\n",
       "      <th>0</th>\n",
       "      <td>2909.451</td>\n",
       "      <td>1990.0</td>\n",
       "      <td>NaN</td>\n",
       "      <td>1074.101</td>\n",
       "      <td>NaN</td>\n",
       "      <td>23.04</td>\n",
       "    </tr>\n",
       "    <tr>\n",
       "      <th>1</th>\n",
       "      <td>2924.664</td>\n",
       "      <td>1991.0</td>\n",
       "      <td>NaN</td>\n",
       "      <td>841.329</td>\n",
       "      <td>1200.0</td>\n",
       "      <td>23.13</td>\n",
       "    </tr>\n",
       "    <tr>\n",
       "      <th>2</th>\n",
       "      <td>1825.171</td>\n",
       "      <td>1992.0</td>\n",
       "      <td>NaN</td>\n",
       "      <td>734.461</td>\n",
       "      <td>1264.0</td>\n",
       "      <td>22.79</td>\n",
       "    </tr>\n",
       "    <tr>\n",
       "      <th>3</th>\n",
       "      <td>2967.004</td>\n",
       "      <td>1993.0</td>\n",
       "      <td>0.244</td>\n",
       "      <td>1166.778</td>\n",
       "      <td>1331.0</td>\n",
       "      <td>22.82</td>\n",
       "    </tr>\n",
       "    <tr>\n",
       "      <th>4</th>\n",
       "      <td>2762.730</td>\n",
       "      <td>1994.0</td>\n",
       "      <td>0.599</td>\n",
       "      <td>1475.325</td>\n",
       "      <td>1402.0</td>\n",
       "      <td>22.91</td>\n",
       "    </tr>\n",
       "    <tr>\n",
       "      <th>...</th>\n",
       "      <td>...</td>\n",
       "      <td>...</td>\n",
       "      <td>...</td>\n",
       "      <td>...</td>\n",
       "      <td>...</td>\n",
       "      <td>...</td>\n",
       "    </tr>\n",
       "    <tr>\n",
       "      <th>117</th>\n",
       "      <td>NaN</td>\n",
       "      <td>1986.0</td>\n",
       "      <td>NaN</td>\n",
       "      <td>NaN</td>\n",
       "      <td>NaN</td>\n",
       "      <td>22.95</td>\n",
       "    </tr>\n",
       "    <tr>\n",
       "      <th>118</th>\n",
       "      <td>NaN</td>\n",
       "      <td>1987.0</td>\n",
       "      <td>NaN</td>\n",
       "      <td>NaN</td>\n",
       "      <td>NaN</td>\n",
       "      <td>23.15</td>\n",
       "    </tr>\n",
       "    <tr>\n",
       "      <th>119</th>\n",
       "      <td>NaN</td>\n",
       "      <td>1988.0</td>\n",
       "      <td>NaN</td>\n",
       "      <td>NaN</td>\n",
       "      <td>NaN</td>\n",
       "      <td>22.97</td>\n",
       "    </tr>\n",
       "    <tr>\n",
       "      <th>120</th>\n",
       "      <td>NaN</td>\n",
       "      <td>1989.0</td>\n",
       "      <td>NaN</td>\n",
       "      <td>NaN</td>\n",
       "      <td>NaN</td>\n",
       "      <td>22.45</td>\n",
       "    </tr>\n",
       "    <tr>\n",
       "      <th>121</th>\n",
       "      <td>NaN</td>\n",
       "      <td>2021.0</td>\n",
       "      <td>NaN</td>\n",
       "      <td>NaN</td>\n",
       "      <td>NaN</td>\n",
       "      <td>23.35</td>\n",
       "    </tr>\n",
       "  </tbody>\n",
       "</table>\n",
       "<p>122 rows × 6 columns</p>\n",
       "</div>"
      ],
      "text/plain": [
       "       e_prod    year  e_temp_change  e_export  e_consumption  e_avg_temp\n",
       "0    2909.451  1990.0            NaN  1074.101            NaN       23.04\n",
       "1    2924.664  1991.0            NaN   841.329         1200.0       23.13\n",
       "2    1825.171  1992.0            NaN   734.461         1264.0       22.79\n",
       "3    2967.004  1993.0          0.244  1166.778         1331.0       22.82\n",
       "4    2762.730  1994.0          0.599  1475.325         1402.0       22.91\n",
       "..        ...     ...            ...       ...            ...         ...\n",
       "117       NaN  1986.0            NaN       NaN            NaN       22.95\n",
       "118       NaN  1987.0            NaN       NaN            NaN       23.15\n",
       "119       NaN  1988.0            NaN       NaN            NaN       22.97\n",
       "120       NaN  1989.0            NaN       NaN            NaN       22.45\n",
       "121       NaN  2021.0            NaN       NaN            NaN       23.35\n",
       "\n",
       "[122 rows x 6 columns]"
      ]
     },
     "execution_count": 79,
     "metadata": {},
     "output_type": "execute_result"
    }
   ],
   "source": [
    "ethiopia_df"
   ]
  },
  {
   "cell_type": "code",
   "execution_count": 82,
   "id": "5c2af31f-e9e3-4c34-ba90-97c47a27d2b8",
   "metadata": {},
   "outputs": [],
   "source": [
    "ethiopia_df = ethiopia_df[['year','e_prod','e_export','e_consumption','e_temp_change', 'e_avg_temp']]"
   ]
  },
  {
   "cell_type": "code",
   "execution_count": 83,
   "id": "3a612012-f5fd-4067-b02a-38141e07a047",
   "metadata": {},
   "outputs": [
    {
     "data": {
      "text/html": [
       "<div>\n",
       "<style scoped>\n",
       "    .dataframe tbody tr th:only-of-type {\n",
       "        vertical-align: middle;\n",
       "    }\n",
       "\n",
       "    .dataframe tbody tr th {\n",
       "        vertical-align: top;\n",
       "    }\n",
       "\n",
       "    .dataframe thead th {\n",
       "        text-align: right;\n",
       "    }\n",
       "</style>\n",
       "<table border=\"1\" class=\"dataframe\">\n",
       "  <thead>\n",
       "    <tr style=\"text-align: right;\">\n",
       "      <th></th>\n",
       "      <th>year</th>\n",
       "      <th>e_prod</th>\n",
       "      <th>e_export</th>\n",
       "      <th>e_consumption</th>\n",
       "      <th>e_temp_change</th>\n",
       "      <th>e_avg_temp</th>\n",
       "    </tr>\n",
       "  </thead>\n",
       "  <tbody>\n",
       "    <tr>\n",
       "      <th>0</th>\n",
       "      <td>1990.0</td>\n",
       "      <td>2909.451</td>\n",
       "      <td>1074.101</td>\n",
       "      <td>NaN</td>\n",
       "      <td>NaN</td>\n",
       "      <td>23.04</td>\n",
       "    </tr>\n",
       "    <tr>\n",
       "      <th>1</th>\n",
       "      <td>1991.0</td>\n",
       "      <td>2924.664</td>\n",
       "      <td>841.329</td>\n",
       "      <td>1200.0</td>\n",
       "      <td>NaN</td>\n",
       "      <td>23.13</td>\n",
       "    </tr>\n",
       "    <tr>\n",
       "      <th>2</th>\n",
       "      <td>1992.0</td>\n",
       "      <td>1825.171</td>\n",
       "      <td>734.461</td>\n",
       "      <td>1264.0</td>\n",
       "      <td>NaN</td>\n",
       "      <td>22.79</td>\n",
       "    </tr>\n",
       "    <tr>\n",
       "      <th>3</th>\n",
       "      <td>1993.0</td>\n",
       "      <td>2967.004</td>\n",
       "      <td>1166.778</td>\n",
       "      <td>1331.0</td>\n",
       "      <td>0.244</td>\n",
       "      <td>22.82</td>\n",
       "    </tr>\n",
       "    <tr>\n",
       "      <th>4</th>\n",
       "      <td>1994.0</td>\n",
       "      <td>2762.730</td>\n",
       "      <td>1475.325</td>\n",
       "      <td>1402.0</td>\n",
       "      <td>0.599</td>\n",
       "      <td>22.91</td>\n",
       "    </tr>\n",
       "    <tr>\n",
       "      <th>...</th>\n",
       "      <td>...</td>\n",
       "      <td>...</td>\n",
       "      <td>...</td>\n",
       "      <td>...</td>\n",
       "      <td>...</td>\n",
       "      <td>...</td>\n",
       "    </tr>\n",
       "    <tr>\n",
       "      <th>117</th>\n",
       "      <td>1986.0</td>\n",
       "      <td>NaN</td>\n",
       "      <td>NaN</td>\n",
       "      <td>NaN</td>\n",
       "      <td>NaN</td>\n",
       "      <td>22.95</td>\n",
       "    </tr>\n",
       "    <tr>\n",
       "      <th>118</th>\n",
       "      <td>1987.0</td>\n",
       "      <td>NaN</td>\n",
       "      <td>NaN</td>\n",
       "      <td>NaN</td>\n",
       "      <td>NaN</td>\n",
       "      <td>23.15</td>\n",
       "    </tr>\n",
       "    <tr>\n",
       "      <th>119</th>\n",
       "      <td>1988.0</td>\n",
       "      <td>NaN</td>\n",
       "      <td>NaN</td>\n",
       "      <td>NaN</td>\n",
       "      <td>NaN</td>\n",
       "      <td>22.97</td>\n",
       "    </tr>\n",
       "    <tr>\n",
       "      <th>120</th>\n",
       "      <td>1989.0</td>\n",
       "      <td>NaN</td>\n",
       "      <td>NaN</td>\n",
       "      <td>NaN</td>\n",
       "      <td>NaN</td>\n",
       "      <td>22.45</td>\n",
       "    </tr>\n",
       "    <tr>\n",
       "      <th>121</th>\n",
       "      <td>2021.0</td>\n",
       "      <td>NaN</td>\n",
       "      <td>NaN</td>\n",
       "      <td>NaN</td>\n",
       "      <td>NaN</td>\n",
       "      <td>23.35</td>\n",
       "    </tr>\n",
       "  </tbody>\n",
       "</table>\n",
       "<p>122 rows × 6 columns</p>\n",
       "</div>"
      ],
      "text/plain": [
       "       year    e_prod  e_export  e_consumption  e_temp_change  e_avg_temp\n",
       "0    1990.0  2909.451  1074.101            NaN            NaN       23.04\n",
       "1    1991.0  2924.664   841.329         1200.0            NaN       23.13\n",
       "2    1992.0  1825.171   734.461         1264.0            NaN       22.79\n",
       "3    1993.0  2967.004  1166.778         1331.0          0.244       22.82\n",
       "4    1994.0  2762.730  1475.325         1402.0          0.599       22.91\n",
       "..      ...       ...       ...            ...            ...         ...\n",
       "117  1986.0       NaN       NaN            NaN            NaN       22.95\n",
       "118  1987.0       NaN       NaN            NaN            NaN       23.15\n",
       "119  1988.0       NaN       NaN            NaN            NaN       22.97\n",
       "120  1989.0       NaN       NaN            NaN            NaN       22.45\n",
       "121  2021.0       NaN       NaN            NaN            NaN       23.35\n",
       "\n",
       "[122 rows x 6 columns]"
      ]
     },
     "execution_count": 83,
     "metadata": {},
     "output_type": "execute_result"
    }
   ],
   "source": [
    "ethiopia_df"
   ]
  },
  {
   "cell_type": "code",
   "execution_count": 84,
   "id": "1409c186-ffc8-4784-8db1-899de9f3c4cc",
   "metadata": {
    "scrolled": true
   },
   "outputs": [],
   "source": [
    "ethiopia_df.to_csv('./data/Ethiopia/ethiopia_df.csv')"
   ]
  },
  {
   "cell_type": "code",
   "execution_count": null,
   "id": "21fdf966",
   "metadata": {},
   "outputs": [],
   "source": []
  }
 ],
 "metadata": {
  "kernelspec": {
   "display_name": "Python 3 (ipykernel)",
   "language": "python",
   "name": "python3"
  },
  "language_info": {
   "codemirror_mode": {
    "name": "ipython",
    "version": 3
   },
   "file_extension": ".py",
   "mimetype": "text/x-python",
   "name": "python",
   "nbconvert_exporter": "python",
   "pygments_lexer": "ipython3",
   "version": "3.9.12"
  }
 },
 "nbformat": 4,
 "nbformat_minor": 5
}
