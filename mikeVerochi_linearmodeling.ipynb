{
 "cells": [
  {
   "cell_type": "code",
   "execution_count": 1,
   "id": "97f2ddeb-01d9-4ee0-82e7-071de49df1d4",
   "metadata": {},
   "outputs": [],
   "source": [
    "import pandas as pd\n",
    "import numpy as np\n",
    "import matplotlib.pyplot as plt\n",
    "import seaborn as sns\n",
    "from sklearn.model_selection import train_test_split\n",
    "from sklearn.preprocessing import StandardScaler\n",
    "from sklearn.linear_model import LinearRegression"
   ]
  },
  {
   "cell_type": "markdown",
   "id": "96c3e8b2-480f-40a4-af9b-2085264c8a41",
   "metadata": {},
   "source": [
    "## Building/Cleaning Data to Create CSV/DataFrames"
   ]
  },
  {
   "cell_type": "code",
   "execution_count": 41,
   "id": "db8473ce-3bbc-4d1e-83ce-c0f616b71176",
   "metadata": {},
   "outputs": [],
   "source": [
    "# df = pd.read_csv('data/Indonesia/Indonesia.csv')"
   ]
  },
  {
   "cell_type": "code",
   "execution_count": 42,
   "id": "2c3481b0-2221-4eb6-85c2-144b318428ed",
   "metadata": {},
   "outputs": [],
   "source": [
    "# df.drop('Unnamed: 0', axis=1, inplace=True)"
   ]
  },
  {
   "cell_type": "code",
   "execution_count": 5,
   "id": "40185371-8a56-4fd9-ae7d-2505b2c2f3b2",
   "metadata": {},
   "outputs": [],
   "source": [
    "# # missing value for 2020\n",
    "# # filling with 75th percentile\n",
    "\n",
    "# df['Ind_prod_60kg_bags'].fillna(df['Ind_prod_60kg_bags'].quantile(.75), inplace=True)"
   ]
  },
  {
   "cell_type": "code",
   "execution_count": null,
   "id": "aacb9308-ec95-4b16-acb4-b5703d480457",
   "metadata": {},
   "outputs": [],
   "source": [
    "# df['ind_prod_lbs'] = [(each*1000)*2.2 for each in df['Ind_prod_60kg_bags']]"
   ]
  },
  {
   "cell_type": "code",
   "execution_count": 9,
   "id": "a8691924-2cc2-47f6-a31e-9137be619fe1",
   "metadata": {},
   "outputs": [],
   "source": [
    "# df.drop('Ind_prod_60kg_bags', axis=1, inplace=True)"
   ]
  },
  {
   "cell_type": "code",
   "execution_count": 12,
   "id": "45ef7aea-22fc-439a-b7ec-bfcd9327da06",
   "metadata": {},
   "outputs": [],
   "source": [
    "# df.to_csv('data/Indonesia/Indonesia2.csv')"
   ]
  },
  {
   "cell_type": "code",
   "execution_count": null,
   "id": "e90f9700-e47f-4854-b030-8f55e68fa6c3",
   "metadata": {},
   "outputs": [],
   "source": []
  },
  {
   "cell_type": "code",
   "execution_count": 197,
   "id": "291098f0-732e-4ce6-b7e1-261fa25e3f6b",
   "metadata": {},
   "outputs": [],
   "source": [
    "# avg_temp = pd.read_csv('data/Indonesia/tas_timeseries_annual_cru_1901-2021_IDN.csv')"
   ]
  },
  {
   "cell_type": "code",
   "execution_count": 199,
   "id": "dc1d66d9-062b-453f-84a2-e3f23dea0fb2",
   "metadata": {},
   "outputs": [],
   "source": [
    "# avg_temp.drop(avg_temp.columns[[1,3,4,5,6,7,8,9,10,11,12,13,14,15,16,17,18,19,20,21,22,23,24,25,26,27,28,29,30,31,32,33,34]], axis=1, inplace=True)"
   ]
  },
  {
   "cell_type": "code",
   "execution_count": 200,
   "id": "14d050d0-2d67-4cc3-ab0d-7465cabc0c04",
   "metadata": {},
   "outputs": [],
   "source": [
    "# avg_temp.drop(avg_temp.columns[[2]], axis=1, inplace=True)"
   ]
  },
  {
   "cell_type": "code",
   "execution_count": 202,
   "id": "d12deb6b-5698-488c-88eb-82d47e523bee",
   "metadata": {},
   "outputs": [],
   "source": [
    "# avg_temp2 = avg_temp.drop(avg_temp.index[0:89])"
   ]
  },
  {
   "cell_type": "code",
   "execution_count": 204,
   "id": "d73f92d2-5313-481f-81ae-48fe9150e0af",
   "metadata": {},
   "outputs": [],
   "source": [
    "# avg_temp3 = avg_temp2.drop(avg_temp2.index[31])"
   ]
  },
  {
   "cell_type": "code",
   "execution_count": 208,
   "id": "b03791d5-a85d-44f0-82fd-95e62466290c",
   "metadata": {},
   "outputs": [],
   "source": [
    "# avg_temp3.rename(columns={'Variable:': 'Year'}, inplace=True)"
   ]
  },
  {
   "cell_type": "code",
   "execution_count": 217,
   "id": "1110741a-66ae-40c8-a5f6-5935abb14e21",
   "metadata": {},
   "outputs": [],
   "source": [
    "# avg_temp3.rename(columns={'Indonesia': 'ind_avg_temp_celsius'}, inplace=True)"
   ]
  },
  {
   "cell_type": "code",
   "execution_count": 220,
   "id": "a6a4dcea-f4cf-4637-aae3-15d49b52c5d8",
   "metadata": {},
   "outputs": [],
   "source": [
    "# ind = pd.merge(df, avg_temp3, on='Year')"
   ]
  },
  {
   "cell_type": "code",
   "execution_count": 222,
   "id": "8449fe51-b4a1-44f1-8a0e-17b9347dd06e",
   "metadata": {},
   "outputs": [],
   "source": [
    "# ind = ind[['Year', 'Temp Change', 'ind_avg_temp_celsius', 'ind_prod_lbs']]"
   ]
  },
  {
   "cell_type": "code",
   "execution_count": 224,
   "id": "cadb60e3-46d4-4e2c-b4e2-9e43939c1d5b",
   "metadata": {},
   "outputs": [],
   "source": [
    "# ind.rename(columns={'Year': 'year', 'Temp Change': 'temp_change'}, inplace=True)"
   ]
  },
  {
   "cell_type": "code",
   "execution_count": 227,
   "id": "33c443ff-85ee-40f8-85f1-808b0ede4eb5",
   "metadata": {},
   "outputs": [],
   "source": [
    "# ind.to_csv('data/Indonesia/ind_final.csv')"
   ]
  },
  {
   "cell_type": "code",
   "execution_count": null,
   "id": "8eddc2e2-271f-4596-ab84-4744f21e514c",
   "metadata": {},
   "outputs": [],
   "source": []
  },
  {
   "cell_type": "code",
   "execution_count": 2,
   "id": "d17e2adb-33b9-4bb3-a62d-97e9961c0bdf",
   "metadata": {},
   "outputs": [],
   "source": [
    "# df = pd.read_csv('data/Indonesia/ind_final.csv')"
   ]
  },
  {
   "cell_type": "code",
   "execution_count": 4,
   "id": "936391d4-c4cd-4564-9e77-5ecb067fb4e2",
   "metadata": {},
   "outputs": [],
   "source": [
    "# df.drop(df.columns[[0]], axis=1, inplace=True)"
   ]
  },
  {
   "cell_type": "code",
   "execution_count": 6,
   "id": "370a31f6-190c-4de8-a633-982fd66d6ff1",
   "metadata": {},
   "outputs": [],
   "source": [
    "# df2 = pd.read_csv('data/cleaned_merged_df.csv')"
   ]
  },
  {
   "cell_type": "code",
   "execution_count": 11,
   "id": "bc438d80-7d98-4d7a-9db0-de7041ce37f5",
   "metadata": {},
   "outputs": [],
   "source": [
    "# df.rename(columns={'temp_change': 'ind_annual_celcsius_change'}, inplace=True)"
   ]
  },
  {
   "cell_type": "code",
   "execution_count": 16,
   "id": "c04ea3e9-5335-4931-89ae-beb462a792c7",
   "metadata": {},
   "outputs": [],
   "source": [
    "# cleaned_merged_df2 = pd.merge(df, df2, on='year')"
   ]
  },
  {
   "cell_type": "code",
   "execution_count": 18,
   "id": "0a41b3f6-6daa-4df1-8f3b-a63b7c4fef74",
   "metadata": {},
   "outputs": [],
   "source": [
    "# cleaned_merged_df2"
   ]
  },
  {
   "cell_type": "code",
   "execution_count": 19,
   "id": "b8f65b01-7403-49d2-8408-83219821ad93",
   "metadata": {},
   "outputs": [],
   "source": [
    "# cleaned_merged_df2.to_csv('data/cleaned_merged_df2.csv')"
   ]
  },
  {
   "cell_type": "code",
   "execution_count": null,
   "id": "eafd1bb1-02f6-413b-8c03-3e9821986ee1",
   "metadata": {},
   "outputs": [],
   "source": []
  },
  {
   "cell_type": "code",
   "execution_count": null,
   "id": "41574a4e-3ba9-487a-905f-56cd37d61118",
   "metadata": {},
   "outputs": [],
   "source": []
  },
  {
   "cell_type": "code",
   "execution_count": null,
   "id": "44c8036d-0014-442d-af26-0c72f1237f15",
   "metadata": {},
   "outputs": [],
   "source": []
  },
  {
   "cell_type": "code",
   "execution_count": null,
   "id": "a717cd02-b21f-4533-a25d-6e39bfc7830e",
   "metadata": {},
   "outputs": [],
   "source": []
  },
  {
   "cell_type": "code",
   "execution_count": null,
   "id": "c0db808d-8e3a-4c31-8b0a-694ae1958ddc",
   "metadata": {},
   "outputs": [],
   "source": []
  },
  {
   "cell_type": "code",
   "execution_count": 116,
   "id": "71b7d13d-0937-4e5b-a4c3-fe8a217d3928",
   "metadata": {},
   "outputs": [],
   "source": [
    "df2 = pd.read_csv('data/cleaned_merged_df3.csv')"
   ]
  },
  {
   "cell_type": "code",
   "execution_count": null,
   "id": "376a33d8-c982-4152-b3a5-b8b25b403798",
   "metadata": {},
   "outputs": [],
   "source": []
  },
  {
   "cell_type": "code",
   "execution_count": 161,
   "id": "449aa76b-1d2e-4542-863a-ffb3bd1af435",
   "metadata": {},
   "outputs": [],
   "source": [
    "b_prod = pd.read_csv('data/production.csv')"
   ]
  },
  {
   "cell_type": "code",
   "execution_count": 162,
   "id": "76dc2e13-6f28-4491-949c-b0874aadb467",
   "metadata": {},
   "outputs": [],
   "source": [
    "b_prod.drop(b_prod.columns[[0]], axis=1, inplace=True)"
   ]
  },
  {
   "cell_type": "code",
   "execution_count": 163,
   "id": "96e09e30-9f6f-4945-b044-3eaa959f65af",
   "metadata": {},
   "outputs": [],
   "source": [
    "b_prod.drop(b_prod.index[0:2], inplace=True)"
   ]
  },
  {
   "cell_type": "code",
   "execution_count": 164,
   "id": "8bdc9c5c-eb38-47c6-a8cc-bba7dae52f2b",
   "metadata": {},
   "outputs": [],
   "source": [
    "b_prod.drop(b_prod.index[1:56], inplace=True)"
   ]
  },
  {
   "cell_type": "code",
   "execution_count": 165,
   "id": "a29f6585-745a-43ed-818e-cc732b641a60",
   "metadata": {},
   "outputs": [],
   "source": [
    "df = b_prod.transpose()"
   ]
  },
  {
   "cell_type": "code",
   "execution_count": 166,
   "id": "ea3a9886-eb33-4ce1-933c-f1c39c48af11",
   "metadata": {},
   "outputs": [],
   "source": [
    "new_header = df.iloc[0]\n",
    "df = df[1:]\n",
    "df.columns = new_header"
   ]
  },
  {
   "cell_type": "code",
   "execution_count": 167,
   "id": "be60dfca-82fe-4025-96c2-1151f58d2297",
   "metadata": {},
   "outputs": [],
   "source": [
    "df = df.reset_index()"
   ]
  },
  {
   "cell_type": "code",
   "execution_count": 168,
   "id": "8f1046c8-6598-454e-8577-9735c9c473d0",
   "metadata": {},
   "outputs": [],
   "source": [
    "df.rename(columns={'index': 'year', 'Brazil': 'b_prod_60kg_bags'}, inplace=True)"
   ]
  },
  {
   "cell_type": "code",
   "execution_count": 180,
   "id": "499ef749-fd61-45d3-b0c7-2b90ac035c8c",
   "metadata": {},
   "outputs": [
    {
     "data": {
      "text/plain": [
       "Crop year\n",
       "year            int32\n",
       "b_prod_lbs    float64\n",
       "dtype: object"
      ]
     },
     "execution_count": 180,
     "metadata": {},
     "output_type": "execute_result"
    }
   ],
   "source": [
    "df.dtypes"
   ]
  },
  {
   "cell_type": "code",
   "execution_count": 179,
   "id": "5fcb1f54-4c52-4e7a-8d60-ba4caeb11740",
   "metadata": {},
   "outputs": [],
   "source": [
    "df['year'] = df['year'].astype(int)"
   ]
  },
  {
   "cell_type": "code",
   "execution_count": 172,
   "id": "6ad378bd-14f8-461e-b399-eab760686f10",
   "metadata": {},
   "outputs": [],
   "source": [
    "df['b_prod_lbs'] = [(each*1000)*2.2 for each in df['b_prod_60kg_bags']]"
   ]
  },
  {
   "cell_type": "code",
   "execution_count": 173,
   "id": "e3f8af0e-0eb3-44a1-8683-e414dc0f50b6",
   "metadata": {},
   "outputs": [],
   "source": [
    "df.drop(df.columns[[1]], axis=1, inplace=True)"
   ]
  },
  {
   "cell_type": "code",
   "execution_count": 176,
   "id": "4adb2cb7-f030-49dd-afa6-e1ac556db5a3",
   "metadata": {},
   "outputs": [],
   "source": [
    "df['year'] = df['year'].str[:-3]"
   ]
  },
  {
   "cell_type": "code",
   "execution_count": 182,
   "id": "0188137b-ec93-407f-97b2-10af6ca4d6de",
   "metadata": {},
   "outputs": [],
   "source": [
    "cleaned_merged_df4 = pd.merge(df, df2, on='year')"
   ]
  },
  {
   "cell_type": "code",
   "execution_count": 185,
   "id": "312d588d-1500-4b4c-b5d1-113dd7b8f0e6",
   "metadata": {},
   "outputs": [],
   "source": [
    "\n",
    "\n",
    "cleaned_merged_df4.drop(cleaned_merged_df4.columns[[2, 3]], axis=1, inplace=True)"
   ]
  },
  {
   "cell_type": "code",
   "execution_count": 186,
   "id": "e4f033dc-27d7-4e60-aec1-f91bef1216ab",
   "metadata": {},
   "outputs": [
    {
     "data": {
      "text/html": [
       "<div>\n",
       "<style scoped>\n",
       "    .dataframe tbody tr th:only-of-type {\n",
       "        vertical-align: middle;\n",
       "    }\n",
       "\n",
       "    .dataframe tbody tr th {\n",
       "        vertical-align: top;\n",
       "    }\n",
       "\n",
       "    .dataframe thead th {\n",
       "        text-align: right;\n",
       "    }\n",
       "</style>\n",
       "<table border=\"1\" class=\"dataframe\">\n",
       "  <thead>\n",
       "    <tr style=\"text-align: right;\">\n",
       "      <th></th>\n",
       "      <th>year</th>\n",
       "      <th>b_prod_lbs</th>\n",
       "      <th>ind_annual_celcsius_change</th>\n",
       "      <th>ind_avg_temp_celsius</th>\n",
       "      <th>ind_prod_lbs</th>\n",
       "      <th>b_hectares_harvested</th>\n",
       "      <th>b_hectograms_per_hectare_yield</th>\n",
       "      <th>b_tonnes_produced</th>\n",
       "      <th>usa_retail_price</th>\n",
       "      <th>b_annual_avg_temp</th>\n",
       "      <th>...</th>\n",
       "      <th>col_annual_celsius_change</th>\n",
       "      <th>global_change_in_celsius</th>\n",
       "      <th>e_prod</th>\n",
       "      <th>e_temp_change</th>\n",
       "      <th>e_export</th>\n",
       "      <th>e_consumption</th>\n",
       "      <th>us_consumption_lbs</th>\n",
       "      <th>col_avg_temp_celsius</th>\n",
       "      <th>b_annual_celsius_change</th>\n",
       "      <th>e_avg_temp</th>\n",
       "    </tr>\n",
       "  </thead>\n",
       "  <tbody>\n",
       "    <tr>\n",
       "      <th>0</th>\n",
       "      <td>1990</td>\n",
       "      <td>60028382.92</td>\n",
       "      <td>0.120</td>\n",
       "      <td>25.43</td>\n",
       "      <td>16371042.6</td>\n",
       "      <td>2908960</td>\n",
       "      <td>5036</td>\n",
       "      <td>1464856</td>\n",
       "      <td>2.97</td>\n",
       "      <td>25.12</td>\n",
       "      <td>...</td>\n",
       "      <td>0.258</td>\n",
       "      <td>0.66</td>\n",
       "      <td>2909.451</td>\n",
       "      <td>0.244</td>\n",
       "      <td>1074.101</td>\n",
       "      <td>1200.0</td>\n",
       "      <td>40254757.4</td>\n",
       "      <td>24.77</td>\n",
       "      <td>0.440</td>\n",
       "      <td>23.04</td>\n",
       "    </tr>\n",
       "    <tr>\n",
       "      <th>1</th>\n",
       "      <td>1991</td>\n",
       "      <td>60045685.48</td>\n",
       "      <td>0.203</td>\n",
       "      <td>25.32</td>\n",
       "      <td>18685031.2</td>\n",
       "      <td>2763440</td>\n",
       "      <td>5502</td>\n",
       "      <td>1520382</td>\n",
       "      <td>2.81</td>\n",
       "      <td>25.05</td>\n",
       "      <td>...</td>\n",
       "      <td>0.347</td>\n",
       "      <td>0.53</td>\n",
       "      <td>2924.664</td>\n",
       "      <td>0.244</td>\n",
       "      <td>841.329</td>\n",
       "      <td>1264.0</td>\n",
       "      <td>41054596.0</td>\n",
       "      <td>24.82</td>\n",
       "      <td>0.470</td>\n",
       "      <td>23.13</td>\n",
       "    </tr>\n",
       "    <tr>\n",
       "      <th>2</th>\n",
       "      <td>1992</td>\n",
       "      <td>76127379.24</td>\n",
       "      <td>0.264</td>\n",
       "      <td>25.28</td>\n",
       "      <td>12252851.6</td>\n",
       "      <td>2500320</td>\n",
       "      <td>5177</td>\n",
       "      <td>1294373</td>\n",
       "      <td>2.58</td>\n",
       "      <td>24.91</td>\n",
       "      <td>...</td>\n",
       "      <td>0.532</td>\n",
       "      <td>0.25</td>\n",
       "      <td>1825.171</td>\n",
       "      <td>0.244</td>\n",
       "      <td>734.461</td>\n",
       "      <td>1331.0</td>\n",
       "      <td>40238996.6</td>\n",
       "      <td>24.95</td>\n",
       "      <td>0.381</td>\n",
       "      <td>22.79</td>\n",
       "    </tr>\n",
       "    <tr>\n",
       "      <th>3</th>\n",
       "      <td>1993</td>\n",
       "      <td>61967352.92</td>\n",
       "      <td>0.206</td>\n",
       "      <td>25.17</td>\n",
       "      <td>14835233.6</td>\n",
       "      <td>2259330</td>\n",
       "      <td>5660</td>\n",
       "      <td>1278759</td>\n",
       "      <td>2.47</td>\n",
       "      <td>25.02</td>\n",
       "      <td>...</td>\n",
       "      <td>0.157</td>\n",
       "      <td>0.36</td>\n",
       "      <td>2967.004</td>\n",
       "      <td>0.244</td>\n",
       "      <td>1166.778</td>\n",
       "      <td>1402.0</td>\n",
       "      <td>42277701.4</td>\n",
       "      <td>24.80</td>\n",
       "      <td>0.522</td>\n",
       "      <td>22.82</td>\n",
       "    </tr>\n",
       "    <tr>\n",
       "      <th>4</th>\n",
       "      <td>1994</td>\n",
       "      <td>62022503.40</td>\n",
       "      <td>0.267</td>\n",
       "      <td>25.25</td>\n",
       "      <td>11809331.6</td>\n",
       "      <td>2097650</td>\n",
       "      <td>6232</td>\n",
       "      <td>1307289</td>\n",
       "      <td>3.40</td>\n",
       "      <td>25.14</td>\n",
       "      <td>...</td>\n",
       "      <td>0.162</td>\n",
       "      <td>0.49</td>\n",
       "      <td>2762.730</td>\n",
       "      <td>0.599</td>\n",
       "      <td>1475.325</td>\n",
       "      <td>1476.0</td>\n",
       "      <td>38117428.8</td>\n",
       "      <td>24.77</td>\n",
       "      <td>0.612</td>\n",
       "      <td>22.91</td>\n",
       "    </tr>\n",
       "  </tbody>\n",
       "</table>\n",
       "<p>5 rows × 21 columns</p>\n",
       "</div>"
      ],
      "text/plain": [
       "   year   b_prod_lbs  ind_annual_celcsius_change  ind_avg_temp_celsius  \\\n",
       "0  1990  60028382.92                       0.120                 25.43   \n",
       "1  1991  60045685.48                       0.203                 25.32   \n",
       "2  1992  76127379.24                       0.264                 25.28   \n",
       "3  1993  61967352.92                       0.206                 25.17   \n",
       "4  1994  62022503.40                       0.267                 25.25   \n",
       "\n",
       "   ind_prod_lbs  b_hectares_harvested  b_hectograms_per_hectare_yield  \\\n",
       "0    16371042.6               2908960                            5036   \n",
       "1    18685031.2               2763440                            5502   \n",
       "2    12252851.6               2500320                            5177   \n",
       "3    14835233.6               2259330                            5660   \n",
       "4    11809331.6               2097650                            6232   \n",
       "\n",
       "   b_tonnes_produced  usa_retail_price  b_annual_avg_temp  ...  \\\n",
       "0            1464856              2.97              25.12  ...   \n",
       "1            1520382              2.81              25.05  ...   \n",
       "2            1294373              2.58              24.91  ...   \n",
       "3            1278759              2.47              25.02  ...   \n",
       "4            1307289              3.40              25.14  ...   \n",
       "\n",
       "   col_annual_celsius_change  global_change_in_celsius    e_prod  \\\n",
       "0                      0.258                      0.66  2909.451   \n",
       "1                      0.347                      0.53  2924.664   \n",
       "2                      0.532                      0.25  1825.171   \n",
       "3                      0.157                      0.36  2967.004   \n",
       "4                      0.162                      0.49  2762.730   \n",
       "\n",
       "   e_temp_change  e_export  e_consumption  us_consumption_lbs  \\\n",
       "0          0.244  1074.101         1200.0          40254757.4   \n",
       "1          0.244   841.329         1264.0          41054596.0   \n",
       "2          0.244   734.461         1331.0          40238996.6   \n",
       "3          0.244  1166.778         1402.0          42277701.4   \n",
       "4          0.599  1475.325         1476.0          38117428.8   \n",
       "\n",
       "   col_avg_temp_celsius  b_annual_celsius_change  e_avg_temp  \n",
       "0                 24.77                    0.440       23.04  \n",
       "1                 24.82                    0.470       23.13  \n",
       "2                 24.95                    0.381       22.79  \n",
       "3                 24.80                    0.522       22.82  \n",
       "4                 24.77                    0.612       22.91  \n",
       "\n",
       "[5 rows x 21 columns]"
      ]
     },
     "execution_count": 186,
     "metadata": {},
     "output_type": "execute_result"
    }
   ],
   "source": [
    "cleaned_merged_df4.head()"
   ]
  },
  {
   "cell_type": "code",
   "execution_count": null,
   "id": "01d21736-ce0d-4301-bff3-3c023d0539c9",
   "metadata": {},
   "outputs": [],
   "source": []
  },
  {
   "cell_type": "code",
   "execution_count": 188,
   "id": "79f9df92-fc4f-418f-a48e-c411719c237f",
   "metadata": {},
   "outputs": [],
   "source": [
    "cleaned_merged_df4.to_csv('data/cleaned_merged_df4.csv')"
   ]
  },
  {
   "cell_type": "markdown",
   "id": "69878bf4-e8d0-4ce2-928b-9dd94f5ec700",
   "metadata": {},
   "source": [
    "# Regression Model"
   ]
  },
  {
   "cell_type": "markdown",
   "id": "a1cfc605-7695-45ef-9fbc-6cab3b9d3060",
   "metadata": {},
   "source": [
    "### Loading Data"
   ]
  },
  {
   "cell_type": "code",
   "execution_count": 189,
   "id": "98fe449e-c266-46ad-a0a6-13fbaaf96ee8",
   "metadata": {},
   "outputs": [],
   "source": [
    "df = pd.read_csv('data/cleaned_merged_df4.csv')"
   ]
  },
  {
   "cell_type": "code",
   "execution_count": 191,
   "id": "a2181417-a801-4848-9828-3779b2f7ab28",
   "metadata": {},
   "outputs": [],
   "source": [
    "df.drop(df.columns[[0]], axis=1, inplace=True)"
   ]
  },
  {
   "cell_type": "code",
   "execution_count": 192,
   "id": "a2b3d631-43e0-4585-8371-0c162df6e465",
   "metadata": {},
   "outputs": [
    {
     "data": {
      "text/html": [
       "<div>\n",
       "<style scoped>\n",
       "    .dataframe tbody tr th:only-of-type {\n",
       "        vertical-align: middle;\n",
       "    }\n",
       "\n",
       "    .dataframe tbody tr th {\n",
       "        vertical-align: top;\n",
       "    }\n",
       "\n",
       "    .dataframe thead th {\n",
       "        text-align: right;\n",
       "    }\n",
       "</style>\n",
       "<table border=\"1\" class=\"dataframe\">\n",
       "  <thead>\n",
       "    <tr style=\"text-align: right;\">\n",
       "      <th></th>\n",
       "      <th>year</th>\n",
       "      <th>b_prod_lbs</th>\n",
       "      <th>ind_annual_celcsius_change</th>\n",
       "      <th>ind_avg_temp_celsius</th>\n",
       "      <th>ind_prod_lbs</th>\n",
       "      <th>b_hectares_harvested</th>\n",
       "      <th>b_hectograms_per_hectare_yield</th>\n",
       "      <th>b_tonnes_produced</th>\n",
       "      <th>usa_retail_price</th>\n",
       "      <th>b_annual_avg_temp</th>\n",
       "      <th>...</th>\n",
       "      <th>col_annual_celsius_change</th>\n",
       "      <th>global_change_in_celsius</th>\n",
       "      <th>e_prod</th>\n",
       "      <th>e_temp_change</th>\n",
       "      <th>e_export</th>\n",
       "      <th>e_consumption</th>\n",
       "      <th>us_consumption_lbs</th>\n",
       "      <th>col_avg_temp_celsius</th>\n",
       "      <th>b_annual_celsius_change</th>\n",
       "      <th>e_avg_temp</th>\n",
       "    </tr>\n",
       "  </thead>\n",
       "  <tbody>\n",
       "    <tr>\n",
       "      <th>0</th>\n",
       "      <td>1990</td>\n",
       "      <td>60028382.92</td>\n",
       "      <td>0.120</td>\n",
       "      <td>25.43</td>\n",
       "      <td>16371042.6</td>\n",
       "      <td>2908960</td>\n",
       "      <td>5036</td>\n",
       "      <td>1464856</td>\n",
       "      <td>2.97</td>\n",
       "      <td>25.12</td>\n",
       "      <td>...</td>\n",
       "      <td>0.258</td>\n",
       "      <td>0.66</td>\n",
       "      <td>2909.451</td>\n",
       "      <td>0.244</td>\n",
       "      <td>1074.101</td>\n",
       "      <td>1200.0</td>\n",
       "      <td>40254757.4</td>\n",
       "      <td>24.77</td>\n",
       "      <td>0.440</td>\n",
       "      <td>23.04</td>\n",
       "    </tr>\n",
       "    <tr>\n",
       "      <th>1</th>\n",
       "      <td>1991</td>\n",
       "      <td>60045685.48</td>\n",
       "      <td>0.203</td>\n",
       "      <td>25.32</td>\n",
       "      <td>18685031.2</td>\n",
       "      <td>2763440</td>\n",
       "      <td>5502</td>\n",
       "      <td>1520382</td>\n",
       "      <td>2.81</td>\n",
       "      <td>25.05</td>\n",
       "      <td>...</td>\n",
       "      <td>0.347</td>\n",
       "      <td>0.53</td>\n",
       "      <td>2924.664</td>\n",
       "      <td>0.244</td>\n",
       "      <td>841.329</td>\n",
       "      <td>1264.0</td>\n",
       "      <td>41054596.0</td>\n",
       "      <td>24.82</td>\n",
       "      <td>0.470</td>\n",
       "      <td>23.13</td>\n",
       "    </tr>\n",
       "    <tr>\n",
       "      <th>2</th>\n",
       "      <td>1992</td>\n",
       "      <td>76127379.24</td>\n",
       "      <td>0.264</td>\n",
       "      <td>25.28</td>\n",
       "      <td>12252851.6</td>\n",
       "      <td>2500320</td>\n",
       "      <td>5177</td>\n",
       "      <td>1294373</td>\n",
       "      <td>2.58</td>\n",
       "      <td>24.91</td>\n",
       "      <td>...</td>\n",
       "      <td>0.532</td>\n",
       "      <td>0.25</td>\n",
       "      <td>1825.171</td>\n",
       "      <td>0.244</td>\n",
       "      <td>734.461</td>\n",
       "      <td>1331.0</td>\n",
       "      <td>40238996.6</td>\n",
       "      <td>24.95</td>\n",
       "      <td>0.381</td>\n",
       "      <td>22.79</td>\n",
       "    </tr>\n",
       "  </tbody>\n",
       "</table>\n",
       "<p>3 rows × 21 columns</p>\n",
       "</div>"
      ],
      "text/plain": [
       "   year   b_prod_lbs  ind_annual_celcsius_change  ind_avg_temp_celsius  \\\n",
       "0  1990  60028382.92                       0.120                 25.43   \n",
       "1  1991  60045685.48                       0.203                 25.32   \n",
       "2  1992  76127379.24                       0.264                 25.28   \n",
       "\n",
       "   ind_prod_lbs  b_hectares_harvested  b_hectograms_per_hectare_yield  \\\n",
       "0    16371042.6               2908960                            5036   \n",
       "1    18685031.2               2763440                            5502   \n",
       "2    12252851.6               2500320                            5177   \n",
       "\n",
       "   b_tonnes_produced  usa_retail_price  b_annual_avg_temp  ...  \\\n",
       "0            1464856              2.97              25.12  ...   \n",
       "1            1520382              2.81              25.05  ...   \n",
       "2            1294373              2.58              24.91  ...   \n",
       "\n",
       "   col_annual_celsius_change  global_change_in_celsius    e_prod  \\\n",
       "0                      0.258                      0.66  2909.451   \n",
       "1                      0.347                      0.53  2924.664   \n",
       "2                      0.532                      0.25  1825.171   \n",
       "\n",
       "   e_temp_change  e_export  e_consumption  us_consumption_lbs  \\\n",
       "0          0.244  1074.101         1200.0          40254757.4   \n",
       "1          0.244   841.329         1264.0          41054596.0   \n",
       "2          0.244   734.461         1331.0          40238996.6   \n",
       "\n",
       "   col_avg_temp_celsius  b_annual_celsius_change  e_avg_temp  \n",
       "0                 24.77                    0.440       23.04  \n",
       "1                 24.82                    0.470       23.13  \n",
       "2                 24.95                    0.381       22.79  \n",
       "\n",
       "[3 rows x 21 columns]"
      ]
     },
     "execution_count": 192,
     "metadata": {},
     "output_type": "execute_result"
    }
   ],
   "source": [
    "df.head(3)"
   ]
  },
  {
   "cell_type": "markdown",
   "id": "9c47d19f-9d2e-497c-988e-b579d0715123",
   "metadata": {},
   "source": [
    "### Train/Test Split for Temp"
   ]
  },
  {
   "cell_type": "code",
   "execution_count": 25,
   "id": "e61e1d43-98fb-42d6-b20d-0c08223640e4",
   "metadata": {},
   "outputs": [],
   "source": [
    "temp_features = [\n",
    "    'ind_avg_temp_celsius', \n",
    "    'e_avg_temp', \n",
    "    'col_avg_temp_celsius',\n",
    "    'b_annual_avg_temp'\n",
    "]"
   ]
  },
  {
   "cell_type": "code",
   "execution_count": 26,
   "id": "e628ed3f-d820-4e7f-875f-a8d8091bc06b",
   "metadata": {},
   "outputs": [
    {
     "data": {
      "text/plain": [
       "ind_avg_temp_celsius    0\n",
       "e_avg_temp              0\n",
       "col_avg_temp_celsius    0\n",
       "b_annual_avg_temp       0\n",
       "dtype: int64"
      ]
     },
     "execution_count": 26,
     "metadata": {},
     "output_type": "execute_result"
    }
   ],
   "source": [
    "df[temp_features].isnull().sum()"
   ]
  },
  {
   "cell_type": "code",
   "execution_count": 27,
   "id": "d03647a5-bf02-4b5d-8bf5-8d18b7e12371",
   "metadata": {},
   "outputs": [],
   "source": [
    "X = df[temp_features]\n",
    "y = df['usa_retail_price']\n",
    "\n",
    "X_train, X_test, y_train, y_test = train_test_split(X, y, random_state=42)"
   ]
  },
  {
   "cell_type": "markdown",
   "id": "0104904d-df3f-4040-9154-68fca4f3b58f",
   "metadata": {},
   "source": [
    "### Scaling for Temp"
   ]
  },
  {
   "cell_type": "code",
   "execution_count": 28,
   "id": "b2733e1b-534c-4dc8-8f15-92d9b04700d1",
   "metadata": {},
   "outputs": [
    {
     "name": "stdout",
     "output_type": "stream",
     "text": [
      "StandardScaler()\n"
     ]
    }
   ],
   "source": [
    "ss = StandardScaler()\n",
    "print(ss.fit(X_train))"
   ]
  },
  {
   "cell_type": "code",
   "execution_count": 29,
   "id": "9edc6358-7608-4e92-9d65-842c115fc7f2",
   "metadata": {},
   "outputs": [
    {
     "name": "stdout",
     "output_type": "stream",
     "text": [
      "StandardScaler()\n"
     ]
    }
   ],
   "source": [
    "ss = StandardScaler()\n",
    "print(ss.fit(X_test))"
   ]
  },
  {
   "cell_type": "markdown",
   "id": "1dc2b9c7-bb69-4701-bc3d-18e7ce161361",
   "metadata": {},
   "source": [
    "### Linear Regression for Temp"
   ]
  },
  {
   "cell_type": "code",
   "execution_count": 30,
   "id": "6b3a8e80-159b-46f8-8ae7-f133523ddf2d",
   "metadata": {},
   "outputs": [
    {
     "name": "stdout",
     "output_type": "stream",
     "text": [
      "MLR score: 0.37277105117546516 -0.46385685051501957\n",
      "MLR intercept: -31.36281896027752\n",
      "MLR coeffs: [-1.26214349 -0.40741388 -0.18179427  3.20308214]\n"
     ]
    }
   ],
   "source": [
    "mlr = LinearRegression()\n",
    "mlr.fit(X_train, y_train)\n",
    "\n",
    "y_pred = mlr.predict(X_test)\n",
    "\n",
    "print('MLR score:', mlr.score(X_train, y_train), mlr.score(X_test, y_test))\n",
    "print('MLR intercept:', mlr.intercept_)\n",
    "print('MLR coeffs:', mlr.coef_)"
   ]
  },
  {
   "cell_type": "markdown",
   "id": "85e9d4ea-156c-4eea-b596-f300fcb3f7e7",
   "metadata": {},
   "source": [
    "### Train/Test Split for Prod"
   ]
  },
  {
   "cell_type": "code",
   "execution_count": 196,
   "id": "765569fb-b3cf-4dd3-ba4f-31db21b6b3f2",
   "metadata": {},
   "outputs": [],
   "source": [
    "prod_features = [\n",
    "    'ind_prod_lbs', \n",
    "    'col_production_lbs', \n",
    "    'e_prod',\n",
    "    'b_prod_lbs'\n",
    "]"
   ]
  },
  {
   "cell_type": "code",
   "execution_count": 197,
   "id": "50069e9c-438b-4eb2-94c7-b6314323e777",
   "metadata": {},
   "outputs": [
    {
     "data": {
      "text/plain": [
       "ind_prod_lbs          0\n",
       "col_production_lbs    0\n",
       "e_prod                0\n",
       "b_prod_lbs            0\n",
       "dtype: int64"
      ]
     },
     "execution_count": 197,
     "metadata": {},
     "output_type": "execute_result"
    }
   ],
   "source": [
    "df[prod_features].isnull().sum()"
   ]
  },
  {
   "cell_type": "code",
   "execution_count": 198,
   "id": "79833d0f-4e2b-4e4b-b94a-97e48c214112",
   "metadata": {},
   "outputs": [],
   "source": [
    "X = df[prod_features]\n",
    "y = df['usa_retail_price']\n",
    "\n",
    "X_train, X_test, y_train, y_test = train_test_split(X, y, random_state=42)"
   ]
  },
  {
   "cell_type": "markdown",
   "id": "b8ffa396-9626-4657-a6c8-0ae3dfa0f13b",
   "metadata": {},
   "source": [
    "### Scaling for Prod"
   ]
  },
  {
   "cell_type": "code",
   "execution_count": 199,
   "id": "a4ab98dc-6a4e-48dd-be06-e6f1303d14e6",
   "metadata": {},
   "outputs": [
    {
     "name": "stdout",
     "output_type": "stream",
     "text": [
      "StandardScaler()\n"
     ]
    }
   ],
   "source": [
    "ss = StandardScaler()\n",
    "print(ss.fit(X_train))"
   ]
  },
  {
   "cell_type": "code",
   "execution_count": 200,
   "id": "618d8ddc-1ada-44a6-a698-c38ab3f62447",
   "metadata": {},
   "outputs": [
    {
     "name": "stdout",
     "output_type": "stream",
     "text": [
      "StandardScaler()\n"
     ]
    }
   ],
   "source": [
    "ss = StandardScaler()\n",
    "print(ss.fit(X_test))"
   ]
  },
  {
   "cell_type": "markdown",
   "id": "3b1e91dd-7f2d-4ee3-85f2-0e19ead387d1",
   "metadata": {},
   "source": [
    "### Linear Regression for Prod"
   ]
  },
  {
   "cell_type": "code",
   "execution_count": 201,
   "id": "bd929277-27c2-4550-8b21-c6af1a0090e6",
   "metadata": {},
   "outputs": [
    {
     "name": "stdout",
     "output_type": "stream",
     "text": [
      "MLR score: 0.44353998819682683 0.45966424192158284\n",
      "MLR intercept: 2.843835978776019\n",
      "MLR coeffs: [ 6.72053432e-08 -3.46340339e-08  1.08976633e-04 -3.16729409e-10]\n"
     ]
    }
   ],
   "source": [
    "mlr = LinearRegression()\n",
    "mlr.fit(X_train, y_train)\n",
    "\n",
    "y_pred = mlr.predict(X_test)\n",
    "\n",
    "print('MLR score:', mlr.score(X_train, y_train), mlr.score(X_test, y_test))\n",
    "print('MLR intercept:', mlr.intercept_)\n",
    "print('MLR coeffs:', mlr.coef_)"
   ]
  },
  {
   "cell_type": "code",
   "execution_count": null,
   "id": "4c048b66-f347-49cc-b897-277ac76c58d5",
   "metadata": {},
   "outputs": [],
   "source": []
  }
 ],
 "metadata": {
  "kernelspec": {
   "display_name": "Python 3 (ipykernel)",
   "language": "python",
   "name": "python3"
  },
  "language_info": {
   "codemirror_mode": {
    "name": "ipython",
    "version": 3
   },
   "file_extension": ".py",
   "mimetype": "text/x-python",
   "name": "python",
   "nbconvert_exporter": "python",
   "pygments_lexer": "ipython3",
   "version": "3.9.12"
  }
 },
 "nbformat": 4,
 "nbformat_minor": 5
}
