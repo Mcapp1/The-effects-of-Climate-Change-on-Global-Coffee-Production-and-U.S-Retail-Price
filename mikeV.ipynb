{
 "cells": [
  {
   "cell_type": "code",
   "execution_count": 23,
   "id": "97f2ddeb-01d9-4ee0-82e7-071de49df1d4",
   "metadata": {},
   "outputs": [],
   "source": [
    "import pandas as pd\n",
    "import numpy as np\n",
    "import matplotlib.pyplot as plt\n",
    "import seaborn as sns\n",
    "from sklearn.model_selection import train_test_split\n",
    "from sklearn.preprocessing import StandardScaler\n",
    "from sklearn.linear_model import LinearRegression"
   ]
  },
  {
   "cell_type": "markdown",
   "id": "96c3e8b2-480f-40a4-af9b-2085264c8a41",
   "metadata": {},
   "source": [
    "## Building/Cleaning Data to Create CSV/DataFrames"
   ]
  },
  {
   "cell_type": "code",
   "execution_count": 2,
   "id": "db8473ce-3bbc-4d1e-83ce-c0f616b71176",
   "metadata": {},
   "outputs": [],
   "source": [
    "df = pd.read_csv('data/Indonesia/Indonesia.csv')"
   ]
  },
  {
   "cell_type": "code",
   "execution_count": 3,
   "id": "2c3481b0-2221-4eb6-85c2-144b318428ed",
   "metadata": {},
   "outputs": [],
   "source": [
    "df.drop('Unnamed: 0', axis=1, inplace=True)"
   ]
  },
  {
   "cell_type": "code",
   "execution_count": 5,
   "id": "40185371-8a56-4fd9-ae7d-2505b2c2f3b2",
   "metadata": {},
   "outputs": [],
   "source": [
    "# missing value for 2020\n",
    "# filling with 75th percentile\n",
    "\n",
    "df['Ind_prod_60kg_bags'].fillna(df['Ind_prod_60kg_bags'].quantile(.75), inplace=True)"
   ]
  },
  {
   "cell_type": "code",
   "execution_count": null,
   "id": "aacb9308-ec95-4b16-acb4-b5703d480457",
   "metadata": {},
   "outputs": [],
   "source": [
    "df['ind_prod_lbs'] = [(each*1000)*2.2 for each in df['Ind_prod_60kg_bags']]"
   ]
  },
  {
   "cell_type": "code",
   "execution_count": 9,
   "id": "a8691924-2cc2-47f6-a31e-9137be619fe1",
   "metadata": {},
   "outputs": [],
   "source": [
    "df.drop('Ind_prod_60kg_bags', axis=1, inplace=True)"
   ]
  },
  {
   "cell_type": "code",
   "execution_count": 12,
   "id": "45ef7aea-22fc-439a-b7ec-bfcd9327da06",
   "metadata": {},
   "outputs": [],
   "source": [
    "# df.to_csv('data/Indonesia/Indonesia2.csv')"
   ]
  },
  {
   "cell_type": "code",
   "execution_count": null,
   "id": "e90f9700-e47f-4854-b030-8f55e68fa6c3",
   "metadata": {},
   "outputs": [],
   "source": []
  },
  {
   "cell_type": "code",
   "execution_count": 197,
   "id": "291098f0-732e-4ce6-b7e1-261fa25e3f6b",
   "metadata": {},
   "outputs": [],
   "source": [
    "avg_temp = pd.read_csv('data/Indonesia/tas_timeseries_annual_cru_1901-2021_IDN.csv')"
   ]
  },
  {
   "cell_type": "code",
   "execution_count": 199,
   "id": "dc1d66d9-062b-453f-84a2-e3f23dea0fb2",
   "metadata": {},
   "outputs": [],
   "source": [
    "avg_temp.drop(avg_temp.columns[[1,3,4,5,6,7,8,9,10,11,12,13,14,15,16,17,18,19,20,21,22,23,24,25,26,27,28,29,30,31,32,33,34]], axis=1, inplace=True)"
   ]
  },
  {
   "cell_type": "code",
   "execution_count": 200,
   "id": "14d050d0-2d67-4cc3-ab0d-7465cabc0c04",
   "metadata": {},
   "outputs": [],
   "source": [
    "avg_temp.drop(avg_temp.columns[[2]], axis=1, inplace=True)"
   ]
  },
  {
   "cell_type": "code",
   "execution_count": 202,
   "id": "d12deb6b-5698-488c-88eb-82d47e523bee",
   "metadata": {},
   "outputs": [],
   "source": [
    "avg_temp2 = avg_temp.drop(avg_temp.index[0:89])"
   ]
  },
  {
   "cell_type": "code",
   "execution_count": 204,
   "id": "d73f92d2-5313-481f-81ae-48fe9150e0af",
   "metadata": {},
   "outputs": [],
   "source": [
    "avg_temp3 = avg_temp2.drop(avg_temp2.index[31])"
   ]
  },
  {
   "cell_type": "code",
   "execution_count": 208,
   "id": "b03791d5-a85d-44f0-82fd-95e62466290c",
   "metadata": {},
   "outputs": [],
   "source": [
    "avg_temp3.rename(columns={'Variable:': 'Year'}, inplace=True)"
   ]
  },
  {
   "cell_type": "code",
   "execution_count": 217,
   "id": "1110741a-66ae-40c8-a5f6-5935abb14e21",
   "metadata": {},
   "outputs": [],
   "source": [
    "avg_temp3.rename(columns={'Indonesia': 'ind_avg_temp_celsius'}, inplace=True)"
   ]
  },
  {
   "cell_type": "code",
   "execution_count": 220,
   "id": "a6a4dcea-f4cf-4637-aae3-15d49b52c5d8",
   "metadata": {},
   "outputs": [],
   "source": [
    "ind = pd.merge(df, avg_temp3, on='Year')"
   ]
  },
  {
   "cell_type": "code",
   "execution_count": 222,
   "id": "8449fe51-b4a1-44f1-8a0e-17b9347dd06e",
   "metadata": {},
   "outputs": [],
   "source": [
    "ind = ind[['Year', 'Temp Change', 'ind_avg_temp_celsius', 'ind_prod_lbs']]"
   ]
  },
  {
   "cell_type": "code",
   "execution_count": 224,
   "id": "cadb60e3-46d4-4e2c-b4e2-9e43939c1d5b",
   "metadata": {},
   "outputs": [],
   "source": [
    "ind.rename(columns={'Year': 'year', 'Temp Change': 'temp_change'}, inplace=True)"
   ]
  },
  {
   "cell_type": "code",
   "execution_count": 227,
   "id": "33c443ff-85ee-40f8-85f1-808b0ede4eb5",
   "metadata": {},
   "outputs": [],
   "source": [
    "ind.to_csv('data/Indonesia/ind_final.csv')"
   ]
  },
  {
   "cell_type": "code",
   "execution_count": null,
   "id": "8eddc2e2-271f-4596-ab84-4744f21e514c",
   "metadata": {},
   "outputs": [],
   "source": []
  },
  {
   "cell_type": "code",
   "execution_count": 2,
   "id": "d17e2adb-33b9-4bb3-a62d-97e9961c0bdf",
   "metadata": {},
   "outputs": [],
   "source": [
    "df = pd.read_csv('data/Indonesia/ind_final.csv')"
   ]
  },
  {
   "cell_type": "code",
   "execution_count": 4,
   "id": "936391d4-c4cd-4564-9e77-5ecb067fb4e2",
   "metadata": {},
   "outputs": [],
   "source": [
    "df.drop(df.columns[[0]], axis=1, inplace=True)"
   ]
  },
  {
   "cell_type": "code",
   "execution_count": 6,
   "id": "370a31f6-190c-4de8-a633-982fd66d6ff1",
   "metadata": {},
   "outputs": [],
   "source": [
    "df2 = pd.read_csv('data/cleaned_merged_df.csv')"
   ]
  },
  {
   "cell_type": "code",
   "execution_count": 11,
   "id": "bc438d80-7d98-4d7a-9db0-de7041ce37f5",
   "metadata": {},
   "outputs": [],
   "source": [
    "df.rename(columns={'temp_change': 'ind_annual_celcsius_change'}, inplace=True)"
   ]
  },
  {
   "cell_type": "code",
   "execution_count": 16,
   "id": "c04ea3e9-5335-4931-89ae-beb462a792c7",
   "metadata": {},
   "outputs": [],
   "source": [
    "cleaned_merged_df2 = pd.merge(df, df2, on='year')"
   ]
  },
  {
   "cell_type": "code",
   "execution_count": 18,
   "id": "0a41b3f6-6daa-4df1-8f3b-a63b7c4fef74",
   "metadata": {},
   "outputs": [],
   "source": [
    "# cleaned_merged_df2"
   ]
  },
  {
   "cell_type": "code",
   "execution_count": 19,
   "id": "b8f65b01-7403-49d2-8408-83219821ad93",
   "metadata": {},
   "outputs": [],
   "source": [
    "cleaned_merged_df2.to_csv('data/cleaned_merged_df2.csv')"
   ]
  },
  {
   "cell_type": "code",
   "execution_count": null,
   "id": "eafd1bb1-02f6-413b-8c03-3e9821986ee1",
   "metadata": {},
   "outputs": [],
   "source": []
  },
  {
   "cell_type": "code",
   "execution_count": null,
   "id": "41574a4e-3ba9-487a-905f-56cd37d61118",
   "metadata": {},
   "outputs": [],
   "source": []
  },
  {
   "cell_type": "code",
   "execution_count": null,
   "id": "44c8036d-0014-442d-af26-0c72f1237f15",
   "metadata": {},
   "outputs": [],
   "source": []
  },
  {
   "cell_type": "code",
   "execution_count": null,
   "id": "a717cd02-b21f-4533-a25d-6e39bfc7830e",
   "metadata": {},
   "outputs": [],
   "source": []
  },
  {
   "cell_type": "code",
   "execution_count": null,
   "id": "c0db808d-8e3a-4c31-8b0a-694ae1958ddc",
   "metadata": {},
   "outputs": [],
   "source": []
  },
  {
   "cell_type": "code",
   "execution_count": null,
   "id": "71b7d13d-0937-4e5b-a4c3-fe8a217d3928",
   "metadata": {},
   "outputs": [],
   "source": []
  },
  {
   "cell_type": "code",
   "execution_count": null,
   "id": "376a33d8-c982-4152-b3a5-b8b25b403798",
   "metadata": {},
   "outputs": [],
   "source": []
  },
  {
   "cell_type": "code",
   "execution_count": 54,
   "id": "449aa76b-1d2e-4542-863a-ffb3bd1af435",
   "metadata": {},
   "outputs": [],
   "source": [
    "b_prod = pd.read_csv('data/production.csv')"
   ]
  },
  {
   "cell_type": "code",
   "execution_count": 55,
   "id": "76dc2e13-6f28-4491-949c-b0874aadb467",
   "metadata": {},
   "outputs": [],
   "source": [
    "b_prod.drop(b_prod.columns[[0]], axis=1, inplace=True)"
   ]
  },
  {
   "cell_type": "code",
   "execution_count": 57,
   "id": "96e09e30-9f6f-4945-b044-3eaa959f65af",
   "metadata": {},
   "outputs": [],
   "source": [
    "b_prod.drop(b_prod.index[0:2], inplace=True)"
   ]
  },
  {
   "cell_type": "code",
   "execution_count": 59,
   "id": "8bdc9c5c-eb38-47c6-a8cc-bba7dae52f2b",
   "metadata": {},
   "outputs": [],
   "source": [
    "b_prod.drop(b_prod.index[1:56], inplace=True)"
   ]
  },
  {
   "cell_type": "code",
   "execution_count": 66,
   "id": "a29f6585-745a-43ed-818e-cc732b641a60",
   "metadata": {},
   "outputs": [],
   "source": [
    "df = b_prod.transpose()"
   ]
  },
  {
   "cell_type": "code",
   "execution_count": 68,
   "id": "ea3a9886-eb33-4ce1-933c-f1c39c48af11",
   "metadata": {},
   "outputs": [],
   "source": [
    "new_header = df.iloc[0]\n",
    "df = df[1:]\n",
    "df.columns = new_header"
   ]
  },
  {
   "cell_type": "code",
   "execution_count": 78,
   "id": "be60dfca-82fe-4025-96c2-1151f58d2297",
   "metadata": {},
   "outputs": [],
   "source": [
    "df = df.reset_index()"
   ]
  },
  {
   "cell_type": "code",
   "execution_count": 80,
   "id": "8f1046c8-6598-454e-8577-9735c9c473d0",
   "metadata": {},
   "outputs": [],
   "source": [
    "df.rename(columns={'index': 'year', 'Brazil': 'b_prod_60kg_bags'}, inplace=True)"
   ]
  },
  {
   "cell_type": "code",
   "execution_count": 84,
   "id": "8981d46f-6359-43fe-b8e5-d65033296227",
   "metadata": {},
   "outputs": [],
   "source": [
    "df[\"year\"]= df[\"year\"].str.split(\"/\", n = 1, expand = False)"
   ]
  },
  {
   "cell_type": "code",
   "execution_count": 83,
   "id": "e5d49e45-60f7-4388-bd92-f4fa4b68b6db",
   "metadata": {},
   "outputs": [
    {
     "data": {
      "text/html": [
       "<div>\n",
       "<style scoped>\n",
       "    .dataframe tbody tr th:only-of-type {\n",
       "        vertical-align: middle;\n",
       "    }\n",
       "\n",
       "    .dataframe tbody tr th {\n",
       "        vertical-align: top;\n",
       "    }\n",
       "\n",
       "    .dataframe thead th {\n",
       "        text-align: right;\n",
       "    }\n",
       "</style>\n",
       "<table border=\"1\" class=\"dataframe\">\n",
       "  <thead>\n",
       "    <tr style=\"text-align: right;\">\n",
       "      <th>Crop year</th>\n",
       "      <th>year</th>\n",
       "      <th>b_prod_60kg_bags</th>\n",
       "    </tr>\n",
       "  </thead>\n",
       "  <tbody>\n",
       "    <tr>\n",
       "      <th>0</th>\n",
       "      <td>[1990, 91]</td>\n",
       "      <td>27285.6286</td>\n",
       "    </tr>\n",
       "    <tr>\n",
       "      <th>1</th>\n",
       "      <td>[1991, 92]</td>\n",
       "      <td>27293.4934</td>\n",
       "    </tr>\n",
       "    <tr>\n",
       "      <th>2</th>\n",
       "      <td>[1992, 93]</td>\n",
       "      <td>34603.3542</td>\n",
       "    </tr>\n",
       "    <tr>\n",
       "      <th>3</th>\n",
       "      <td>[1993, 94]</td>\n",
       "      <td>28166.9786</td>\n",
       "    </tr>\n",
       "    <tr>\n",
       "      <th>4</th>\n",
       "      <td>[1994, 95]</td>\n",
       "      <td>28192.047</td>\n",
       "    </tr>\n",
       "    <tr>\n",
       "      <th>5</th>\n",
       "      <td>[1995, 96]</td>\n",
       "      <td>18060.2022</td>\n",
       "    </tr>\n",
       "    <tr>\n",
       "      <th>6</th>\n",
       "      <td>[1996, 97]</td>\n",
       "      <td>29196.743</td>\n",
       "    </tr>\n",
       "    <tr>\n",
       "      <th>7</th>\n",
       "      <td>[1997, 98]</td>\n",
       "      <td>26148.004</td>\n",
       "    </tr>\n",
       "    <tr>\n",
       "      <th>8</th>\n",
       "      <td>[1998, 99]</td>\n",
       "      <td>36760.8533</td>\n",
       "    </tr>\n",
       "    <tr>\n",
       "      <th>9</th>\n",
       "      <td>[1999, 00]</td>\n",
       "      <td>47577.8065</td>\n",
       "    </tr>\n",
       "    <tr>\n",
       "      <th>10</th>\n",
       "      <td>[2000, 01]</td>\n",
       "      <td>31310.353</td>\n",
       "    </tr>\n",
       "    <tr>\n",
       "      <th>11</th>\n",
       "      <td>[2001, 02]</td>\n",
       "      <td>31365.0955</td>\n",
       "    </tr>\n",
       "    <tr>\n",
       "      <th>12</th>\n",
       "      <td>[2002, 03]</td>\n",
       "      <td>48351.634</td>\n",
       "    </tr>\n",
       "    <tr>\n",
       "      <th>13</th>\n",
       "      <td>[2003, 04]</td>\n",
       "      <td>28873.4093</td>\n",
       "    </tr>\n",
       "    <tr>\n",
       "      <th>14</th>\n",
       "      <td>[2004, 05]</td>\n",
       "      <td>39281.1457</td>\n",
       "    </tr>\n",
       "    <tr>\n",
       "      <th>15</th>\n",
       "      <td>[2005, 06]</td>\n",
       "      <td>32932.9797</td>\n",
       "    </tr>\n",
       "    <tr>\n",
       "      <th>16</th>\n",
       "      <td>[2006, 07]</td>\n",
       "      <td>48431.7338</td>\n",
       "    </tr>\n",
       "    <tr>\n",
       "      <th>17</th>\n",
       "      <td>[2007, 08]</td>\n",
       "      <td>38911.4571</td>\n",
       "    </tr>\n",
       "    <tr>\n",
       "      <th>18</th>\n",
       "      <td>[2008, 09]</td>\n",
       "      <td>51490.5177</td>\n",
       "    </tr>\n",
       "    <tr>\n",
       "      <th>19</th>\n",
       "      <td>[2009, 10]</td>\n",
       "      <td>43976.812</td>\n",
       "    </tr>\n",
       "    <tr>\n",
       "      <th>20</th>\n",
       "      <td>[2010, 11]</td>\n",
       "      <td>55428.4102</td>\n",
       "    </tr>\n",
       "    <tr>\n",
       "      <th>21</th>\n",
       "      <td>[2011, 12]</td>\n",
       "      <td>48591.8289</td>\n",
       "    </tr>\n",
       "    <tr>\n",
       "      <th>22</th>\n",
       "      <td>[2012, 13]</td>\n",
       "      <td>55418.0012</td>\n",
       "    </tr>\n",
       "    <tr>\n",
       "      <th>23</th>\n",
       "      <td>[2013, 14]</td>\n",
       "      <td>54688.9664</td>\n",
       "    </tr>\n",
       "    <tr>\n",
       "      <th>24</th>\n",
       "      <td>[2014, 15]</td>\n",
       "      <td>53304.7669</td>\n",
       "    </tr>\n",
       "    <tr>\n",
       "      <th>25</th>\n",
       "      <td>[2015, 16]</td>\n",
       "      <td>52870.5876</td>\n",
       "    </tr>\n",
       "    <tr>\n",
       "      <th>26</th>\n",
       "      <td>[2016, 17]</td>\n",
       "      <td>56788.1784</td>\n",
       "    </tr>\n",
       "    <tr>\n",
       "      <th>27</th>\n",
       "      <td>[2017, 18]</td>\n",
       "      <td>52739.8179</td>\n",
       "    </tr>\n",
       "    <tr>\n",
       "      <th>28</th>\n",
       "      <td>[2018, 19]</td>\n",
       "      <td>65130.7997</td>\n",
       "    </tr>\n",
       "    <tr>\n",
       "      <th>29</th>\n",
       "      <td>[2019, 20]</td>\n",
       "      <td>58210.7127</td>\n",
       "    </tr>\n",
       "  </tbody>\n",
       "</table>\n",
       "</div>"
      ],
      "text/plain": [
       "Crop year        year b_prod_60kg_bags\n",
       "0          [1990, 91]       27285.6286\n",
       "1          [1991, 92]       27293.4934\n",
       "2          [1992, 93]       34603.3542\n",
       "3          [1993, 94]       28166.9786\n",
       "4          [1994, 95]        28192.047\n",
       "5          [1995, 96]       18060.2022\n",
       "6          [1996, 97]        29196.743\n",
       "7          [1997, 98]        26148.004\n",
       "8          [1998, 99]       36760.8533\n",
       "9          [1999, 00]       47577.8065\n",
       "10         [2000, 01]        31310.353\n",
       "11         [2001, 02]       31365.0955\n",
       "12         [2002, 03]        48351.634\n",
       "13         [2003, 04]       28873.4093\n",
       "14         [2004, 05]       39281.1457\n",
       "15         [2005, 06]       32932.9797\n",
       "16         [2006, 07]       48431.7338\n",
       "17         [2007, 08]       38911.4571\n",
       "18         [2008, 09]       51490.5177\n",
       "19         [2009, 10]        43976.812\n",
       "20         [2010, 11]       55428.4102\n",
       "21         [2011, 12]       48591.8289\n",
       "22         [2012, 13]       55418.0012\n",
       "23         [2013, 14]       54688.9664\n",
       "24         [2014, 15]       53304.7669\n",
       "25         [2015, 16]       52870.5876\n",
       "26         [2016, 17]       56788.1784\n",
       "27         [2017, 18]       52739.8179\n",
       "28         [2018, 19]       65130.7997\n",
       "29         [2019, 20]       58210.7127"
      ]
     },
     "execution_count": 85,
     "metadata": {},
     "output_type": "execute_result"
    }
   ],
   "source": [
    "df"
   ]
  },
  {
   "cell_type": "code",
   "execution_count": null,
   "id": "fe11fcf8-348c-4056-a7de-35c0f4cbc5e4",
   "metadata": {},
   "outputs": [],
   "source": []
  },
  {
   "cell_type": "code",
   "execution_count": null,
   "id": "0188137b-ec93-407f-97b2-10af6ca4d6de",
   "metadata": {},
   "outputs": [],
   "source": []
  },
  {
   "cell_type": "code",
   "execution_count": null,
   "id": "e4f033dc-27d7-4e60-aec1-f91bef1216ab",
   "metadata": {},
   "outputs": [],
   "source": []
  },
  {
   "cell_type": "markdown",
   "id": "69878bf4-e8d0-4ce2-928b-9dd94f5ec700",
   "metadata": {},
   "source": [
    "# Regression Model"
   ]
  },
  {
   "cell_type": "markdown",
   "id": "a1cfc605-7695-45ef-9fbc-6cab3b9d3060",
   "metadata": {},
   "source": [
    "### Loading Data and Train/Test Split"
   ]
  },
  {
   "cell_type": "code",
   "execution_count": 37,
   "id": "98fe449e-c266-46ad-a0a6-13fbaaf96ee8",
   "metadata": {},
   "outputs": [],
   "source": [
    "df = pd.read_csv('data/cleaned_merged_df3.csv')"
   ]
  },
  {
   "cell_type": "code",
   "execution_count": 38,
   "id": "a2181417-a801-4848-9828-3779b2f7ab28",
   "metadata": {},
   "outputs": [],
   "source": [
    "df.drop(df.columns[[0, 1]], axis=1, inplace=True)"
   ]
  },
  {
   "cell_type": "code",
   "execution_count": 39,
   "id": "a2b3d631-43e0-4585-8371-0c162df6e465",
   "metadata": {},
   "outputs": [
    {
     "data": {
      "text/html": [
       "<div>\n",
       "<style scoped>\n",
       "    .dataframe tbody tr th:only-of-type {\n",
       "        vertical-align: middle;\n",
       "    }\n",
       "\n",
       "    .dataframe tbody tr th {\n",
       "        vertical-align: top;\n",
       "    }\n",
       "\n",
       "    .dataframe thead th {\n",
       "        text-align: right;\n",
       "    }\n",
       "</style>\n",
       "<table border=\"1\" class=\"dataframe\">\n",
       "  <thead>\n",
       "    <tr style=\"text-align: right;\">\n",
       "      <th></th>\n",
       "      <th>year</th>\n",
       "      <th>ind_annual_celcsius_change</th>\n",
       "      <th>ind_avg_temp_celsius</th>\n",
       "      <th>ind_prod_lbs</th>\n",
       "      <th>b_hectares_harvested</th>\n",
       "      <th>b_hectograms_per_hectare_yield</th>\n",
       "      <th>b_tonnes_produced</th>\n",
       "      <th>usa_retail_price</th>\n",
       "      <th>b_annual_avg_temp</th>\n",
       "      <th>col_production_lbs</th>\n",
       "      <th>col_annual_celsius_change</th>\n",
       "      <th>global_change_in_celsius</th>\n",
       "      <th>e_prod</th>\n",
       "      <th>e_temp_change</th>\n",
       "      <th>e_export</th>\n",
       "      <th>e_consumption</th>\n",
       "      <th>us_consumption_lbs</th>\n",
       "      <th>col_avg_temp_celsius</th>\n",
       "      <th>b_annual_celsius_change</th>\n",
       "      <th>e_avg_temp</th>\n",
       "    </tr>\n",
       "  </thead>\n",
       "  <tbody>\n",
       "    <tr>\n",
       "      <th>0</th>\n",
       "      <td>1990</td>\n",
       "      <td>0.120</td>\n",
       "      <td>25.43</td>\n",
       "      <td>16371042.6</td>\n",
       "      <td>2908960</td>\n",
       "      <td>5036</td>\n",
       "      <td>1464856</td>\n",
       "      <td>2.97</td>\n",
       "      <td>25.12</td>\n",
       "      <td>31671200.0</td>\n",
       "      <td>0.258</td>\n",
       "      <td>0.66</td>\n",
       "      <td>2909.451</td>\n",
       "      <td>0.244</td>\n",
       "      <td>1074.101</td>\n",
       "      <td>1200.0</td>\n",
       "      <td>40254757.4</td>\n",
       "      <td>24.77</td>\n",
       "      <td>0.440</td>\n",
       "      <td>23.04</td>\n",
       "    </tr>\n",
       "    <tr>\n",
       "      <th>1</th>\n",
       "      <td>1991</td>\n",
       "      <td>0.203</td>\n",
       "      <td>25.32</td>\n",
       "      <td>18685031.2</td>\n",
       "      <td>2763440</td>\n",
       "      <td>5502</td>\n",
       "      <td>1520382</td>\n",
       "      <td>2.81</td>\n",
       "      <td>25.05</td>\n",
       "      <td>39556873.4</td>\n",
       "      <td>0.347</td>\n",
       "      <td>0.53</td>\n",
       "      <td>2924.664</td>\n",
       "      <td>0.244</td>\n",
       "      <td>841.329</td>\n",
       "      <td>1264.0</td>\n",
       "      <td>41054596.0</td>\n",
       "      <td>24.82</td>\n",
       "      <td>0.470</td>\n",
       "      <td>23.13</td>\n",
       "    </tr>\n",
       "    <tr>\n",
       "      <th>2</th>\n",
       "      <td>1992</td>\n",
       "      <td>0.264</td>\n",
       "      <td>25.28</td>\n",
       "      <td>12252851.6</td>\n",
       "      <td>2500320</td>\n",
       "      <td>5177</td>\n",
       "      <td>1294373</td>\n",
       "      <td>2.58</td>\n",
       "      <td>24.91</td>\n",
       "      <td>32883131.6</td>\n",
       "      <td>0.532</td>\n",
       "      <td>0.25</td>\n",
       "      <td>1825.171</td>\n",
       "      <td>0.244</td>\n",
       "      <td>734.461</td>\n",
       "      <td>1331.0</td>\n",
       "      <td>40238996.6</td>\n",
       "      <td>24.95</td>\n",
       "      <td>0.381</td>\n",
       "      <td>22.79</td>\n",
       "    </tr>\n",
       "  </tbody>\n",
       "</table>\n",
       "</div>"
      ],
      "text/plain": [
       "   year  ind_annual_celcsius_change  ind_avg_temp_celsius  ind_prod_lbs  \\\n",
       "0  1990                       0.120                 25.43    16371042.6   \n",
       "1  1991                       0.203                 25.32    18685031.2   \n",
       "2  1992                       0.264                 25.28    12252851.6   \n",
       "\n",
       "   b_hectares_harvested  b_hectograms_per_hectare_yield  b_tonnes_produced  \\\n",
       "0               2908960                            5036            1464856   \n",
       "1               2763440                            5502            1520382   \n",
       "2               2500320                            5177            1294373   \n",
       "\n",
       "   usa_retail_price  b_annual_avg_temp  col_production_lbs  \\\n",
       "0              2.97              25.12          31671200.0   \n",
       "1              2.81              25.05          39556873.4   \n",
       "2              2.58              24.91          32883131.6   \n",
       "\n",
       "   col_annual_celsius_change  global_change_in_celsius    e_prod  \\\n",
       "0                      0.258                      0.66  2909.451   \n",
       "1                      0.347                      0.53  2924.664   \n",
       "2                      0.532                      0.25  1825.171   \n",
       "\n",
       "   e_temp_change  e_export  e_consumption  us_consumption_lbs  \\\n",
       "0          0.244  1074.101         1200.0          40254757.4   \n",
       "1          0.244   841.329         1264.0          41054596.0   \n",
       "2          0.244   734.461         1331.0          40238996.6   \n",
       "\n",
       "   col_avg_temp_celsius  b_annual_celsius_change  e_avg_temp  \n",
       "0                 24.77                    0.440       23.04  \n",
       "1                 24.82                    0.470       23.13  \n",
       "2                 24.95                    0.381       22.79  "
      ]
     },
     "execution_count": 39,
     "metadata": {},
     "output_type": "execute_result"
    }
   ],
   "source": [
    "df.head(3)"
   ]
  },
  {
   "cell_type": "code",
   "execution_count": 25,
   "id": "e61e1d43-98fb-42d6-b20d-0c08223640e4",
   "metadata": {},
   "outputs": [],
   "source": [
    "temp_features = [\n",
    "    'ind_avg_temp_celsius', \n",
    "    'e_avg_temp', \n",
    "    'col_avg_temp_celsius',\n",
    "    'b_annual_avg_temp'\n",
    "]"
   ]
  },
  {
   "cell_type": "code",
   "execution_count": null,
   "id": "765569fb-b3cf-4dd3-ba4f-31db21b6b3f2",
   "metadata": {},
   "outputs": [],
   "source": [
    "prod_features = [\n",
    "    'ind_prod_lbs', \n",
    "    'col_production_lbs', \n",
    "    'e_prod',\n",
    "    'b_annual_avg_temp'\n",
    "]"
   ]
  },
  {
   "cell_type": "code",
   "execution_count": 26,
   "id": "e628ed3f-d820-4e7f-875f-a8d8091bc06b",
   "metadata": {},
   "outputs": [
    {
     "data": {
      "text/plain": [
       "ind_avg_temp_celsius    0\n",
       "e_avg_temp              0\n",
       "col_avg_temp_celsius    0\n",
       "b_annual_avg_temp       0\n",
       "dtype: int64"
      ]
     },
     "execution_count": 26,
     "metadata": {},
     "output_type": "execute_result"
    }
   ],
   "source": [
    "df[temp_features].isnull().sum()"
   ]
  },
  {
   "cell_type": "code",
   "execution_count": 27,
   "id": "d03647a5-bf02-4b5d-8bf5-8d18b7e12371",
   "metadata": {},
   "outputs": [],
   "source": [
    "X = df[temp_features]\n",
    "y = df['usa_retail_price']\n",
    "\n",
    "X_train, X_test, y_train, y_test = train_test_split(X, y, random_state=42)"
   ]
  },
  {
   "cell_type": "markdown",
   "id": "0104904d-df3f-4040-9154-68fca4f3b58f",
   "metadata": {},
   "source": [
    "### Scaling"
   ]
  },
  {
   "cell_type": "code",
   "execution_count": 28,
   "id": "b2733e1b-534c-4dc8-8f15-92d9b04700d1",
   "metadata": {},
   "outputs": [
    {
     "name": "stdout",
     "output_type": "stream",
     "text": [
      "StandardScaler()\n"
     ]
    }
   ],
   "source": [
    "ss = StandardScaler()\n",
    "print(ss.fit(X_train))"
   ]
  },
  {
   "cell_type": "code",
   "execution_count": 29,
   "id": "9edc6358-7608-4e92-9d65-842c115fc7f2",
   "metadata": {},
   "outputs": [
    {
     "name": "stdout",
     "output_type": "stream",
     "text": [
      "StandardScaler()\n"
     ]
    }
   ],
   "source": [
    "ss = StandardScaler()\n",
    "print(ss.fit(X_test))"
   ]
  },
  {
   "cell_type": "code",
   "execution_count": 30,
   "id": "6b3a8e80-159b-46f8-8ae7-f133523ddf2d",
   "metadata": {},
   "outputs": [
    {
     "name": "stdout",
     "output_type": "stream",
     "text": [
      "MLR score: 0.37277105117546516 -0.46385685051501957\n",
      "MLR intercept: -31.36281896027752\n",
      "MLR coeffs: [-1.26214349 -0.40741388 -0.18179427  3.20308214]\n"
     ]
    }
   ],
   "source": [
    "mlr = LinearRegression()\n",
    "mlr.fit(X_train, y_train)\n",
    "\n",
    "y_pred = mlr.predict(X_test)\n",
    "\n",
    "print('MLR score:', mlr.score(X_train, y_train), mlr.score(X_test, y_test))\n",
    "print('MLR intercept:', mlr.intercept_)\n",
    "print('MLR coeffs:', mlr.coef_)"
   ]
  },
  {
   "cell_type": "code",
   "execution_count": null,
   "id": "fb91f474-31dc-4177-b11a-4e084475a325",
   "metadata": {},
   "outputs": [],
   "source": []
  }
 ],
 "metadata": {
  "kernelspec": {
   "display_name": "Python 3 (ipykernel)",
   "language": "python",
   "name": "python3"
  },
  "language_info": {
   "codemirror_mode": {
    "name": "ipython",
    "version": 3
   },
   "file_extension": ".py",
   "mimetype": "text/x-python",
   "name": "python",
   "nbconvert_exporter": "python",
   "pygments_lexer": "ipython3",
   "version": "3.9.12"
  }
 },
 "nbformat": 4,
 "nbformat_minor": 5
}
