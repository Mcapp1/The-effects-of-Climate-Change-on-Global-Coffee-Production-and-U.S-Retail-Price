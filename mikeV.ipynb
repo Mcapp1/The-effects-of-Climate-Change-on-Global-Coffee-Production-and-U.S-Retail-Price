{
 "cells": [
  {
   "cell_type": "code",
   "execution_count": 1,
   "id": "97f2ddeb-01d9-4ee0-82e7-071de49df1d4",
   "metadata": {},
   "outputs": [],
   "source": [
    "import pandas as pd\n",
    "import numpy as np\n",
    "import matplotlib.pyplot as plt\n",
    "import seaborn as sns"
   ]
  },
  {
   "cell_type": "code",
   "execution_count": 2,
   "id": "f8f47af1-efa4-461a-bc19-db859731c1db",
   "metadata": {},
   "outputs": [],
   "source": [
    "clim = pd.read_csv('data/Indonesia_Climate.csv')"
   ]
  },
  {
   "cell_type": "code",
   "execution_count": 4,
   "id": "a0bad908-67de-41ff-9db5-55a536edfe3a",
   "metadata": {},
   "outputs": [
    {
     "data": {
      "text/html": [
       "<div>\n",
       "<style scoped>\n",
       "    .dataframe tbody tr th:only-of-type {\n",
       "        vertical-align: middle;\n",
       "    }\n",
       "\n",
       "    .dataframe tbody tr th {\n",
       "        vertical-align: top;\n",
       "    }\n",
       "\n",
       "    .dataframe thead th {\n",
       "        text-align: right;\n",
       "    }\n",
       "</style>\n",
       "<table border=\"1\" class=\"dataframe\">\n",
       "  <thead>\n",
       "    <tr style=\"text-align: right;\">\n",
       "      <th></th>\n",
       "      <th>Unnamed: 0</th>\n",
       "      <th>Area</th>\n",
       "      <th>Element</th>\n",
       "      <th>Year</th>\n",
       "      <th>Value</th>\n",
       "    </tr>\n",
       "  </thead>\n",
       "  <tbody>\n",
       "    <tr>\n",
       "      <th>0</th>\n",
       "      <td>0</td>\n",
       "      <td>Indonesia</td>\n",
       "      <td>Temperature change</td>\n",
       "      <td>1990</td>\n",
       "      <td>0.120</td>\n",
       "    </tr>\n",
       "    <tr>\n",
       "      <th>1</th>\n",
       "      <td>1</td>\n",
       "      <td>Indonesia</td>\n",
       "      <td>Temperature change</td>\n",
       "      <td>1991</td>\n",
       "      <td>0.203</td>\n",
       "    </tr>\n",
       "    <tr>\n",
       "      <th>2</th>\n",
       "      <td>2</td>\n",
       "      <td>Indonesia</td>\n",
       "      <td>Temperature change</td>\n",
       "      <td>1992</td>\n",
       "      <td>0.264</td>\n",
       "    </tr>\n",
       "  </tbody>\n",
       "</table>\n",
       "</div>"
      ],
      "text/plain": [
       "   Unnamed: 0       Area             Element  Year  Value\n",
       "0           0  Indonesia  Temperature change  1990  0.120\n",
       "1           1  Indonesia  Temperature change  1991  0.203\n",
       "2           2  Indonesia  Temperature change  1992  0.264"
      ]
     },
     "execution_count": 4,
     "metadata": {},
     "output_type": "execute_result"
    }
   ],
   "source": [
    "clim.head(3)"
   ]
  },
  {
   "cell_type": "code",
   "execution_count": 5,
   "id": "14a285e5-d0c0-4cfb-9b1a-ba96abc9525e",
   "metadata": {},
   "outputs": [],
   "source": [
    "clim.drop(clim.columns[[0, 1]], axis=1, inplace=True)"
   ]
  },
  {
   "cell_type": "code",
   "execution_count": 8,
   "id": "88237cc4-4806-4acb-b1cc-b60c56e403f1",
   "metadata": {},
   "outputs": [],
   "source": [
    "clim.to_csv('data/Ind_clim.csv', index=False)"
   ]
  },
  {
   "cell_type": "code",
   "execution_count": null,
   "id": "6df349bd-b3b3-4adc-9c59-3f4e2b2193dc",
   "metadata": {},
   "outputs": [],
   "source": [
    "df.to_csv(\"c:/tmp/courses.csv\",header=False, index=False)"
   ]
  },
  {
   "cell_type": "code",
   "execution_count": null,
   "id": "5ef7cc2d-8feb-4e20-98d1-34ebf8b4da7d",
   "metadata": {},
   "outputs": [],
   "source": []
  },
  {
   "cell_type": "code",
   "execution_count": null,
   "id": "e68743d0-dbb7-4b40-9540-a40f74ee06e6",
   "metadata": {},
   "outputs": [],
   "source": []
  },
  {
   "cell_type": "code",
   "execution_count": null,
   "id": "284b65bd-0c3e-4f69-ba87-3dfdbdca7ced",
   "metadata": {},
   "outputs": [],
   "source": []
  }
 ],
 "metadata": {
  "kernelspec": {
   "display_name": "Python 3 (ipykernel)",
   "language": "python",
   "name": "python3"
  },
  "language_info": {
   "codemirror_mode": {
    "name": "ipython",
    "version": 3
   },
   "file_extension": ".py",
   "mimetype": "text/x-python",
   "name": "python",
   "nbconvert_exporter": "python",
   "pygments_lexer": "ipython3",
   "version": "3.9.12"
  }
 },
 "nbformat": 4,
 "nbformat_minor": 5
}
