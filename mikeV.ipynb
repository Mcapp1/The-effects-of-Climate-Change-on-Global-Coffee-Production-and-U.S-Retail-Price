{
 "cells": [
  {
   "cell_type": "code",
   "execution_count": 1,
   "id": "97f2ddeb-01d9-4ee0-82e7-071de49df1d4",
   "metadata": {},
   "outputs": [],
   "source": [
    "import pandas as pd\n",
    "import numpy as np\n",
    "import matplotlib.pyplot as plt\n",
    "import seaborn as sns"
   ]
  },
  {
   "cell_type": "code",
   "execution_count": 2,
   "id": "db8473ce-3bbc-4d1e-83ce-c0f616b71176",
   "metadata": {},
   "outputs": [],
   "source": [
    "df = pd.read_csv('data/Indonesia/Indonesia.csv')"
   ]
  },
  {
   "cell_type": "code",
   "execution_count": 3,
   "id": "2c3481b0-2221-4eb6-85c2-144b318428ed",
   "metadata": {},
   "outputs": [],
   "source": [
    "df.drop('Unnamed: 0', axis=1, inplace=True)"
   ]
  },
  {
   "cell_type": "code",
   "execution_count": 5,
   "id": "40185371-8a56-4fd9-ae7d-2505b2c2f3b2",
   "metadata": {},
   "outputs": [],
   "source": [
    "# missing value for 2020\n",
    "# filling with 75th percentile\n",
    "\n",
    "df['Ind_prod_60kg_bags'].fillna(df['Ind_prod_60kg_bags'].quantile(.75), inplace=True)"
   ]
  },
  {
   "cell_type": "code",
   "execution_count": null,
   "id": "aacb9308-ec95-4b16-acb4-b5703d480457",
   "metadata": {},
   "outputs": [],
   "source": [
    "df['ind_prod_lbs'] = [(each*1000)*2.2 for each in df['Ind_prod_60kg_bags']]"
   ]
  },
  {
   "cell_type": "code",
   "execution_count": 9,
   "id": "a8691924-2cc2-47f6-a31e-9137be619fe1",
   "metadata": {},
   "outputs": [],
   "source": [
    "df.drop('Ind_prod_60kg_bags', axis=1, inplace=True)"
   ]
  },
  {
   "cell_type": "code",
   "execution_count": 12,
   "id": "45ef7aea-22fc-439a-b7ec-bfcd9327da06",
   "metadata": {},
   "outputs": [],
   "source": [
    "# df.to_csv('data/Indonesia/Indonesia2.csv')"
   ]
  },
  {
   "cell_type": "code",
   "execution_count": null,
   "id": "e90f9700-e47f-4854-b030-8f55e68fa6c3",
   "metadata": {},
   "outputs": [],
   "source": []
  },
  {
   "cell_type": "code",
   "execution_count": 197,
   "id": "291098f0-732e-4ce6-b7e1-261fa25e3f6b",
   "metadata": {},
   "outputs": [],
   "source": [
    "avg_temp = pd.read_csv('data/Indonesia/tas_timeseries_annual_cru_1901-2021_IDN.csv')"
   ]
  },
  {
   "cell_type": "code",
   "execution_count": 199,
   "id": "dc1d66d9-062b-453f-84a2-e3f23dea0fb2",
   "metadata": {},
   "outputs": [],
   "source": [
    "avg_temp.drop(avg_temp.columns[[1,3,4,5,6,7,8,9,10,11,12,13,14,15,16,17,18,19,20,21,22,23,24,25,26,27,28,29,30,31,32,33,34]], axis=1, inplace=True)"
   ]
  },
  {
   "cell_type": "code",
   "execution_count": 200,
   "id": "14d050d0-2d67-4cc3-ab0d-7465cabc0c04",
   "metadata": {},
   "outputs": [],
   "source": [
    "avg_temp.drop(avg_temp.columns[[2]], axis=1, inplace=True)"
   ]
  },
  {
   "cell_type": "code",
   "execution_count": 202,
   "id": "d12deb6b-5698-488c-88eb-82d47e523bee",
   "metadata": {},
   "outputs": [],
   "source": [
    "avg_temp2 = avg_temp.drop(avg_temp.index[0:89])"
   ]
  },
  {
   "cell_type": "code",
   "execution_count": 204,
   "id": "d73f92d2-5313-481f-81ae-48fe9150e0af",
   "metadata": {},
   "outputs": [],
   "source": [
    "avg_temp3 = avg_temp2.drop(avg_temp2.index[31])"
   ]
  },
  {
   "cell_type": "code",
   "execution_count": 208,
   "id": "b03791d5-a85d-44f0-82fd-95e62466290c",
   "metadata": {},
   "outputs": [],
   "source": [
    "avg_temp3.rename(columns={'Variable:': 'Year'}, inplace=True)"
   ]
  },
  {
   "cell_type": "code",
   "execution_count": 217,
   "id": "1110741a-66ae-40c8-a5f6-5935abb14e21",
   "metadata": {},
   "outputs": [],
   "source": [
    "avg_temp3.rename(columns={'Indonesia': 'ind_avg_temp_celsius'}, inplace=True)"
   ]
  },
  {
   "cell_type": "code",
   "execution_count": 220,
   "id": "a6a4dcea-f4cf-4637-aae3-15d49b52c5d8",
   "metadata": {},
   "outputs": [],
   "source": [
    "ind = pd.merge(df, avg_temp3, on='Year')"
   ]
  },
  {
   "cell_type": "code",
   "execution_count": 222,
   "id": "8449fe51-b4a1-44f1-8a0e-17b9347dd06e",
   "metadata": {},
   "outputs": [],
   "source": [
    "ind = ind[['Year', 'Temp Change', 'ind_avg_temp_celsius', 'ind_prod_lbs']]"
   ]
  },
  {
   "cell_type": "code",
   "execution_count": 224,
   "id": "cadb60e3-46d4-4e2c-b4e2-9e43939c1d5b",
   "metadata": {},
   "outputs": [],
   "source": [
    "ind.rename(columns={'Year': 'year', 'Temp Change': 'temp_change'}, inplace=True)"
   ]
  },
  {
   "cell_type": "code",
   "execution_count": 227,
   "id": "33c443ff-85ee-40f8-85f1-808b0ede4eb5",
   "metadata": {},
   "outputs": [],
   "source": [
    "ind.to_csv('data/Indonesia/ind_final.csv')"
   ]
  },
  {
   "cell_type": "code",
   "execution_count": null,
   "id": "8eddc2e2-271f-4596-ab84-4744f21e514c",
   "metadata": {},
   "outputs": [],
   "source": []
  },
  {
   "cell_type": "code",
   "execution_count": 2,
   "id": "d17e2adb-33b9-4bb3-a62d-97e9961c0bdf",
   "metadata": {},
   "outputs": [],
   "source": [
    "df = pd.read_csv('data/Indonesia/ind_final.csv')"
   ]
  },
  {
   "cell_type": "code",
   "execution_count": 4,
   "id": "936391d4-c4cd-4564-9e77-5ecb067fb4e2",
   "metadata": {},
   "outputs": [],
   "source": [
    "df.drop(df.columns[[0]], axis=1, inplace=True)"
   ]
  },
  {
   "cell_type": "code",
   "execution_count": 6,
   "id": "370a31f6-190c-4de8-a633-982fd66d6ff1",
   "metadata": {},
   "outputs": [],
   "source": [
    "df2 = pd.read_csv('data/cleaned_merged_df.csv')"
   ]
  },
  {
   "cell_type": "code",
   "execution_count": 11,
   "id": "bc438d80-7d98-4d7a-9db0-de7041ce37f5",
   "metadata": {},
   "outputs": [],
   "source": [
    "df.rename(columns={'temp_change': 'ind_annual_celcsius_change'}, inplace=True)"
   ]
  },
  {
   "cell_type": "code",
   "execution_count": null,
   "id": "2e4a2f70-3c5b-442b-9f25-cb3bfefc2557",
   "metadata": {},
   "outputs": [],
   "source": []
  },
  {
   "cell_type": "code",
   "execution_count": null,
   "id": "175b4cd9-50c8-4c33-8e2c-f72dff7fa6db",
   "metadata": {},
   "outputs": [],
   "source": []
  },
  {
   "cell_type": "code",
   "execution_count": null,
   "id": "78445790-3b4e-4722-b476-6d05d2e642d1",
   "metadata": {},
   "outputs": [],
   "source": []
  },
  {
   "cell_type": "code",
   "execution_count": 16,
   "id": "c04ea3e9-5335-4931-89ae-beb462a792c7",
   "metadata": {},
   "outputs": [],
   "source": [
    "cleaned_merged_df2 = pd.merge(df, df2, on='year')"
   ]
  },
  {
   "cell_type": "code",
   "execution_count": 18,
   "id": "0a41b3f6-6daa-4df1-8f3b-a63b7c4fef74",
   "metadata": {},
   "outputs": [],
   "source": [
    "# cleaned_merged_df2"
   ]
  },
  {
   "cell_type": "code",
   "execution_count": 19,
   "id": "b8f65b01-7403-49d2-8408-83219821ad93",
   "metadata": {},
   "outputs": [],
   "source": [
    "cleaned_merged_df2.to_csv('data/cleaned_merged_df2.csv')"
   ]
  },
  {
   "cell_type": "code",
   "execution_count": null,
   "id": "eafd1bb1-02f6-413b-8c03-3e9821986ee1",
   "metadata": {},
   "outputs": [],
   "source": []
  }
 ],
 "metadata": {
  "kernelspec": {
   "display_name": "Python 3 (ipykernel)",
   "language": "python",
   "name": "python3"
  },
  "language_info": {
   "codemirror_mode": {
    "name": "ipython",
    "version": 3
   },
   "file_extension": ".py",
   "mimetype": "text/x-python",
   "name": "python",
   "nbconvert_exporter": "python",
   "pygments_lexer": "ipython3",
   "version": "3.9.12"
  }
 },
 "nbformat": 4,
 "nbformat_minor": 5
}
